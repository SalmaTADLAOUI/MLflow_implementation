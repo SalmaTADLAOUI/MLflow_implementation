{
 "cells": [
  {
   "cell_type": "code",
   "execution_count": 0,
   "metadata": {
    "application/vnd.databricks.v1+cell": {
     "cellMetadata": {
      "byteLimit": 2048000,
      "rowLimit": 10000
     },
     "inputWidgets": {},
     "nuid": "84bc428f-76af-43b0-ba5b-b9be37959a3b",
     "showTitle": false,
     "title": ""
    }
   },
   "outputs": [
    {
     "output_type": "display_data",
     "data": {
      "application/vnd.databricks.v1+bamboolib_hint": "{\"pd.DataFrames\": [], \"version\": \"0.0.1\"}",
      "text/plain": []
     },
     "metadata": {},
     "output_type": "display_data"
    }
   ],
   "source": [
    "import numpy as np\n",
    "import pandas as pd\n",
    "import matplotlib #\n",
    "import matplotlib.pyplot as plt\n",
    "import seaborn as sns\n",
    "import sklearn #\n",
    "import spark\n",
    "from sklearn.linear_model import LogisticRegression\n",
    "from sklearn.model_selection import train_test_split\n",
    "from sklearn.preprocessing import StandardScaler\n",
    "from sklearn.metrics import roc_auc_score, confusion_matrix\n",
    "from sklearn.model_selection import KFold\n",
    "import mlflow"
   ]
  },
  {
   "cell_type": "code",
   "execution_count": 0,
   "metadata": {
    "application/vnd.databricks.v1+cell": {
     "cellMetadata": {
      "byteLimit": 2048000,
      "rowLimit": 10000
     },
     "inputWidgets": {},
     "nuid": "62d9e17a-8841-47d9-8c5a-39b8e2bbdade",
     "showTitle": false,
     "title": ""
    }
   },
   "outputs": [
    {
     "output_type": "stream",
     "name": "stdout",
     "output_type": "stream",
     "text": [
      "Python interpreter will be restarted.\nCollecting spark\n  Using cached spark-0.2.1-py3-none-any.whl\nInstalling collected packages: spark\nSuccessfully installed spark-0.2.1\nPython interpreter will be restarted.\n"
     ]
    }
   ],
   "source": [
    "#pip install spark"
   ]
  },
  {
   "cell_type": "code",
   "execution_count": 0,
   "metadata": {
    "application/vnd.databricks.v1+cell": {
     "cellMetadata": {
      "byteLimit": 2048000,
      "rowLimit": 10000
     },
     "inputWidgets": {},
     "nuid": "f91905a6-9af4-4cbd-bb6b-513e93b56016",
     "showTitle": false,
     "title": ""
    }
   },
   "outputs": [
    {
     "output_type": "stream",
     "name": "stdout",
     "output_type": "stream",
     "text": [
      "Collecting mlflow==1.20.2\r\n  Using cached mlflow-1.20.2-py3-none-any.whl (14.6 MB)\r\nCollecting prometheus-flask-exporter\r\n  Using cached prometheus_flask_exporter-0.23.0-py3-none-any.whl (18 kB)\r\nRequirement already satisfied: protobuf>=3.7.0 in /databricks/python3/lib/python3.9/site-packages (from mlflow==1.20.2) (3.19.4)\r\nCollecting cloudpickle\r\n  Using cached cloudpickle-3.0.0-py3-none-any.whl (20 kB)\r\nRequirement already satisfied: packaging in /databricks/python3/lib/python3.9/site-packages (from mlflow==1.20.2) (21.3)\r\nCollecting alembic<=1.4.1\r\n  Using cached alembic-1.4.1-py2.py3-none-any.whl\r\nCollecting sqlparse>=0.3.1\r\n  Using cached sqlparse-0.4.4-py3-none-any.whl (41 kB)\r\nRequirement already satisfied: entrypoints in /databricks/python3/lib/python3.9/site-packages (from mlflow==1.20.2) (0.4)\r\nCollecting querystring-parser\r\n  Using cached querystring_parser-1.2.4-py2.py3-none-any.whl (7.9 kB)\r\nRequirement already satisfied: click>=7.0 in /databricks/python3/lib/python3.9/site-packages (from mlflow==1.20.2) (8.0.4)\r\nRequirement already satisfied: pytz in /databricks/python3/lib/python3.9/site-packages (from mlflow==1.20.2) (2021.3)\r\nCollecting Flask\r\n  Using cached flask-3.0.0-py3-none-any.whl (99 kB)\r\nRequirement already satisfied: pandas in /databricks/python3/lib/python3.9/site-packages (from mlflow==1.20.2) (1.4.2)\r\nCollecting sqlalchemy\r\n  Using cached SQLAlchemy-2.0.25-cp39-cp39-manylinux_2_17_x86_64.manylinux2014_x86_64.whl (3.1 MB)\r\nCollecting gunicorn\r\n  Using cached gunicorn-21.2.0-py3-none-any.whl (80 kB)\r\nCollecting importlib-metadata!=4.7.0,>=3.7.0\r\n  Using cached importlib_metadata-7.0.1-py3-none-any.whl (23 kB)\r\nRequirement already satisfied: numpy in /databricks/python3/lib/python3.9/site-packages (from mlflow==1.20.2) (1.21.5)\r\nCollecting pyyaml>=5.1\r\n  Using cached PyYAML-6.0.1-cp39-cp39-manylinux_2_17_x86_64.manylinux2014_x86_64.whl (738 kB)\r\nCollecting gitpython>=2.1.0\r\n  Using cached GitPython-3.1.40-py3-none-any.whl (190 kB)\r\nRequirement already satisfied: requests>=2.17.3 in /databricks/python3/lib/python3.9/site-packages (from mlflow==1.20.2) (2.27.1)\r\nCollecting databricks-cli>=0.8.7\r\n  Using cached databricks_cli-0.18.0-py2.py3-none-any.whl (150 kB)\r\nCollecting docker>=4.0.0\r\n  Using cached docker-7.0.0-py3-none-any.whl (147 kB)\r\nCollecting Mako\r\n  Using cached Mako-1.3.0-py3-none-any.whl (78 kB)\r\nCollecting python-editor>=0.3\r\n  Using cached python_editor-1.0.4-py3-none-any.whl (4.9 kB)\r\nRequirement already satisfied: python-dateutil in /databricks/python3/lib/python3.9/site-packages (from alembic<=1.4.1->mlflow==1.20.2) (2.8.2)\r\nRequirement already satisfied: urllib3<3,>=1.26.7 in /databricks/python3/lib/python3.9/site-packages (from databricks-cli>=0.8.7->mlflow==1.20.2) (1.26.9)\r\nCollecting tabulate>=0.7.7\r\n  Using cached tabulate-0.9.0-py3-none-any.whl (35 kB)\r\nRequirement already satisfied: six>=1.10.0 in /databricks/python3/lib/python3.9/site-packages (from databricks-cli>=0.8.7->mlflow==1.20.2) (1.16.0)\r\nCollecting oauthlib>=3.1.0\r\n  Using cached oauthlib-3.2.2-py3-none-any.whl (151 kB)\r\nCollecting pyjwt>=1.7.0\r\n  Using cached PyJWT-2.8.0-py3-none-any.whl (22 kB)\r\nCollecting gitdb<5,>=4.0.1\r\n  Using cached gitdb-4.0.11-py3-none-any.whl (62 kB)\r\nCollecting smmap<6,>=3.0.1\r\n  Using cached smmap-5.0.1-py3-none-any.whl (24 kB)\r\nCollecting zipp>=0.5\r\n  Using cached zipp-3.17.0-py3-none-any.whl (7.4 kB)\r\nRequirement already satisfied: pyparsing!=3.0.5,>=2.0.2 in /databricks/python3/lib/python3.9/site-packages (from packaging->mlflow==1.20.2) (3.0.4)\r\nRequirement already satisfied: idna<4,>=2.5 in /databricks/python3/lib/python3.9/site-packages (from requests>=2.17.3->mlflow==1.20.2) (3.3)\r\nRequirement already satisfied: charset-normalizer~=2.0.0 in /databricks/python3/lib/python3.9/site-packages (from requests>=2.17.3->mlflow==1.20.2) (2.0.4)\r\nRequirement already satisfied: certifi>=2017.4.17 in /databricks/python3/lib/python3.9/site-packages (from requests>=2.17.3->mlflow==1.20.2) (2021.10.8)\r\nCollecting greenlet!=0.4.17\r\n  Using cached greenlet-3.0.3-cp39-cp39-manylinux_2_24_x86_64.manylinux_2_28_x86_64.whl (614 kB)\r\nCollecting typing-extensions>=4.6.0\r\n  Using cached typing_extensions-4.9.0-py3-none-any.whl (32 kB)\r\nCollecting Werkzeug>=3.0.0\r\n  Using cached werkzeug-3.0.1-py3-none-any.whl (226 kB)\r\nCollecting click>=7.0\r\n  Using cached click-8.1.7-py3-none-any.whl (97 kB)\r\nCollecting blinker>=1.6.2\r\n  Using cached blinker-1.7.0-py3-none-any.whl (13 kB)\r\nCollecting Jinja2>=3.1.2\r\n  Using cached Jinja2-3.1.2-py3-none-any.whl (133 kB)\r\nCollecting itsdangerous>=2.1.2\r\n  Using cached itsdangerous-2.1.2-py3-none-any.whl (15 kB)\r\nRequirement already satisfied: MarkupSafe>=2.0 in /databricks/python3/lib/python3.9/site-packages (from Jinja2>=3.1.2->Flask->mlflow==1.20.2) (2.0.1)\r\nCollecting MarkupSafe>=2.0\r\n  Using cached MarkupSafe-2.1.3-cp39-cp39-manylinux_2_17_x86_64.manylinux2014_x86_64.whl (25 kB)\r\nRequirement already satisfied: prometheus-client in /databricks/python3/lib/python3.9/site-packages (from prometheus-flask-exporter->mlflow==1.20.2) (0.13.1)\r\nInstalling collected packages: zipp, MarkupSafe, Werkzeug, typing-extensions, smmap, Jinja2, itsdangerous, importlib-metadata, greenlet, click, blinker, tabulate, sqlalchemy, python-editor, pyjwt, oauthlib, Mako, gitdb, Flask, sqlparse, querystring-parser, pyyaml, prometheus-flask-exporter, gunicorn, gitpython, docker, databricks-cli, cloudpickle, alembic, mlflow\r\n  Attempting uninstall: MarkupSafe\r\n    Found existing installation: MarkupSafe 2.0.1\r\n    Not uninstalling markupsafe at /databricks/python3/lib/python3.9/site-packages, outside environment /local_disk0/.ephemeral_nfs/envs/pythonEnv-5c85a567-b801-497b-8426-c02070b74d0f\r\n    Can't uninstall 'MarkupSafe'. No files were found to uninstall.\r\n  Attempting uninstall: typing-extensions\r\n    Found existing installation: typing-extensions 4.1.1\r\n    Not uninstalling typing-extensions at /databricks/python3/lib/python3.9/site-packages, outside environment /local_disk0/.ephemeral_nfs/envs/pythonEnv-5c85a567-b801-497b-8426-c02070b74d0f\r\n    Can't uninstall 'typing-extensions'. No files were found to uninstall.\r\n  Attempting uninstall: Jinja2\r\n    Found existing installation: Jinja2 2.11.3\r\n    Not uninstalling jinja2 at /databricks/python3/lib/python3.9/site-packages, outside environment /local_disk0/.ephemeral_nfs/envs/pythonEnv-5c85a567-b801-497b-8426-c02070b74d0f\r\n    Can't uninstall 'Jinja2'. No files were found to uninstall.\r\n  Attempting uninstall: click\r\n    Found existing installation: click 8.0.4\r\n    Not uninstalling click at /databricks/python3/lib/python3.9/site-packages, outside environment /local_disk0/.ephemeral_nfs/envs/pythonEnv-5c85a567-b801-497b-8426-c02070b74d0f\r\n    Can't uninstall 'click'. No files were found to uninstall.\r\nSuccessfully installed Flask-3.0.0 Jinja2-3.1.2 Mako-1.3.0 MarkupSafe-2.1.3 Werkzeug-3.0.1 alembic-1.4.1 blinker-1.7.0 click-8.1.7 cloudpickle-3.0.0 databricks-cli-0.18.0 docker-7.0.0 gitdb-4.0.11 gitpython-3.1.40 greenlet-3.0.3 gunicorn-21.2.0 importlib-metadata-7.0.1 itsdangerous-2.1.2 mlflow-1.20.2 oauthlib-3.2.2 prometheus-flask-exporter-0.23.0 pyjwt-2.8.0 python-editor-1.0.4 pyyaml-6.0.1 querystring-parser-1.2.4 smmap-5.0.1 sqlalchemy-2.0.25 sqlparse-0.4.4 tabulate-0.9.0 typing-extensions-4.9.0 zipp-3.17.0\r\n\u001B[33mWARNING: You are using pip version 21.2.4; however, version 23.3.2 is available.\r\nYou should consider upgrading via the '/local_disk0/.ephemeral_nfs/envs/pythonEnv-5c85a567-b801-497b-8426-c02070b74d0f/bin/python -m pip install --upgrade pip' command.\u001B[0m\r\n"
     ]
    }
   ],
   "source": [
    "#!pip install mlflow==1.20.2"
   ]
  },
  {
   "cell_type": "code",
   "execution_count": 0,
   "metadata": {
    "application/vnd.databricks.v1+cell": {
     "cellMetadata": {
      "byteLimit": 2048000,
      "rowLimit": 10000
     },
     "inputWidgets": {},
     "nuid": "654aec93-f936-4345-a75a-c072281a3029",
     "showTitle": false,
     "title": ""
    }
   },
   "outputs": [],
   "source": [
    "from pyspark.sql import SparkSession\n",
    "\n",
    "# Create a Spark session\n",
    "spark = SparkSession.builder.appName(\"mlflow\").getOrCreate()\n",
    "\n",
    "# File location and type\n",
    "file_location = \"/FileStore/tables/creditcard.csv\"\n",
    "file_type = \"csv\"\n",
    "\n",
    "# CSV options\n",
    "infer_schema = \"true\"\n",
    "first_row_is_header = \"true\"\n",
    "delimiter = \",\"\n",
    "\n",
    "# The applied options are for CSV files. For other file types, these will be ignored.\n",
    "dataframe = spark.read.format(file_type) \\\n",
    "  .option(\"inferSchema\", infer_schema) \\\n",
    "  .option(\"header\", first_row_is_header) \\\n",
    "  .option(\"sep\", delimiter) \\\n",
    "  .load(file_location)\n",
    "\n",
    "# Convert Spark DataFrame to Pandas DataFrame\n",
    "df = dataframe.toPandas()\n"
   ]
  },
  {
   "cell_type": "code",
   "execution_count": 0,
   "metadata": {
    "application/vnd.databricks.v1+cell": {
     "cellMetadata": {
      "byteLimit": 2048000,
      "rowLimit": 10000
     },
     "inputWidgets": {},
     "nuid": "bc637a22-410d-4100-8348-3b5369817534",
     "showTitle": false,
     "title": ""
    }
   },
   "outputs": [
    {
     "output_type": "display_data",
     "data": {
      "text/html": [
       "<div>\n",
       "<style scoped>\n",
       "    .dataframe tbody tr th:only-of-type {\n",
       "        vertical-align: middle;\n",
       "    }\n",
       "\n",
       "    .dataframe tbody tr th {\n",
       "        vertical-align: top;\n",
       "    }\n",
       "\n",
       "    .dataframe thead th {\n",
       "        text-align: right;\n",
       "    }\n",
       "</style>\n",
       "<table border=\"1\" class=\"dataframe\">\n",
       "  <thead>\n",
       "    <tr style=\"text-align: right;\">\n",
       "      <th></th>\n",
       "      <th>Time</th>\n",
       "      <th>V1</th>\n",
       "      <th>V2</th>\n",
       "      <th>V3</th>\n",
       "      <th>V4</th>\n",
       "      <th>V5</th>\n",
       "      <th>V6</th>\n",
       "      <th>V7</th>\n",
       "      <th>V8</th>\n",
       "      <th>V9</th>\n",
       "      <th>...</th>\n",
       "      <th>V21</th>\n",
       "      <th>V22</th>\n",
       "      <th>V23</th>\n",
       "      <th>V24</th>\n",
       "      <th>V25</th>\n",
       "      <th>V26</th>\n",
       "      <th>V27</th>\n",
       "      <th>V28</th>\n",
       "      <th>Amount</th>\n",
       "      <th>Class</th>\n",
       "    </tr>\n",
       "  </thead>\n",
       "  <tbody>\n",
       "    <tr>\n",
       "      <th>0</th>\n",
       "      <td>0.0</td>\n",
       "      <td>-1.359807</td>\n",
       "      <td>-0.072781</td>\n",
       "      <td>2.536347</td>\n",
       "      <td>1.378155</td>\n",
       "      <td>-0.338321</td>\n",
       "      <td>0.462388</td>\n",
       "      <td>0.239599</td>\n",
       "      <td>0.098698</td>\n",
       "      <td>0.363787</td>\n",
       "      <td>...</td>\n",
       "      <td>-0.018307</td>\n",
       "      <td>0.277838</td>\n",
       "      <td>-0.110474</td>\n",
       "      <td>0.066928</td>\n",
       "      <td>0.128539</td>\n",
       "      <td>-0.189115</td>\n",
       "      <td>0.133558</td>\n",
       "      <td>-0.021053</td>\n",
       "      <td>149.62</td>\n",
       "      <td>0</td>\n",
       "    </tr>\n",
       "    <tr>\n",
       "      <th>1</th>\n",
       "      <td>0.0</td>\n",
       "      <td>1.191857</td>\n",
       "      <td>0.266151</td>\n",
       "      <td>0.166480</td>\n",
       "      <td>0.448154</td>\n",
       "      <td>0.060018</td>\n",
       "      <td>-0.082361</td>\n",
       "      <td>-0.078803</td>\n",
       "      <td>0.085102</td>\n",
       "      <td>-0.255425</td>\n",
       "      <td>...</td>\n",
       "      <td>-0.225775</td>\n",
       "      <td>-0.638672</td>\n",
       "      <td>0.101288</td>\n",
       "      <td>-0.339846</td>\n",
       "      <td>0.167170</td>\n",
       "      <td>0.125895</td>\n",
       "      <td>-0.008983</td>\n",
       "      <td>0.014724</td>\n",
       "      <td>2.69</td>\n",
       "      <td>0</td>\n",
       "    </tr>\n",
       "    <tr>\n",
       "      <th>2</th>\n",
       "      <td>1.0</td>\n",
       "      <td>-1.358354</td>\n",
       "      <td>-1.340163</td>\n",
       "      <td>1.773209</td>\n",
       "      <td>0.379780</td>\n",
       "      <td>-0.503198</td>\n",
       "      <td>1.800499</td>\n",
       "      <td>0.791461</td>\n",
       "      <td>0.247676</td>\n",
       "      <td>-1.514654</td>\n",
       "      <td>...</td>\n",
       "      <td>0.247998</td>\n",
       "      <td>0.771679</td>\n",
       "      <td>0.909412</td>\n",
       "      <td>-0.689281</td>\n",
       "      <td>-0.327642</td>\n",
       "      <td>-0.139097</td>\n",
       "      <td>-0.055353</td>\n",
       "      <td>-0.059752</td>\n",
       "      <td>378.66</td>\n",
       "      <td>0</td>\n",
       "    </tr>\n",
       "    <tr>\n",
       "      <th>3</th>\n",
       "      <td>1.0</td>\n",
       "      <td>-0.966272</td>\n",
       "      <td>-0.185226</td>\n",
       "      <td>1.792993</td>\n",
       "      <td>-0.863291</td>\n",
       "      <td>-0.010309</td>\n",
       "      <td>1.247203</td>\n",
       "      <td>0.237609</td>\n",
       "      <td>0.377436</td>\n",
       "      <td>-1.387024</td>\n",
       "      <td>...</td>\n",
       "      <td>-0.108300</td>\n",
       "      <td>0.005274</td>\n",
       "      <td>-0.190321</td>\n",
       "      <td>-1.175575</td>\n",
       "      <td>0.647376</td>\n",
       "      <td>-0.221929</td>\n",
       "      <td>0.062723</td>\n",
       "      <td>0.061458</td>\n",
       "      <td>123.50</td>\n",
       "      <td>0</td>\n",
       "    </tr>\n",
       "    <tr>\n",
       "      <th>4</th>\n",
       "      <td>2.0</td>\n",
       "      <td>-1.158233</td>\n",
       "      <td>0.877737</td>\n",
       "      <td>1.548718</td>\n",
       "      <td>0.403034</td>\n",
       "      <td>-0.407193</td>\n",
       "      <td>0.095921</td>\n",
       "      <td>0.592941</td>\n",
       "      <td>-0.270533</td>\n",
       "      <td>0.817739</td>\n",
       "      <td>...</td>\n",
       "      <td>-0.009431</td>\n",
       "      <td>0.798278</td>\n",
       "      <td>-0.137458</td>\n",
       "      <td>0.141267</td>\n",
       "      <td>-0.206010</td>\n",
       "      <td>0.502292</td>\n",
       "      <td>0.219422</td>\n",
       "      <td>0.215153</td>\n",
       "      <td>69.99</td>\n",
       "      <td>0</td>\n",
       "    </tr>\n",
       "  </tbody>\n",
       "</table>\n",
       "<p>5 rows × 31 columns</p>\n",
       "</div>"
      ]
     },
     "metadata": {
      "application/vnd.databricks.v1+output": {
       "addedWidgets": {},
       "arguments": {},
       "data": "<div>\n<style scoped>\n    .dataframe tbody tr th:only-of-type {\n        vertical-align: middle;\n    }\n\n    .dataframe tbody tr th {\n        vertical-align: top;\n    }\n\n    .dataframe thead th {\n        text-align: right;\n    }\n</style>\n<table border=\"1\" class=\"dataframe\">\n  <thead>\n    <tr style=\"text-align: right;\">\n      <th></th>\n      <th>Time</th>\n      <th>V1</th>\n      <th>V2</th>\n      <th>V3</th>\n      <th>V4</th>\n      <th>V5</th>\n      <th>V6</th>\n      <th>V7</th>\n      <th>V8</th>\n      <th>V9</th>\n      <th>...</th>\n      <th>V21</th>\n      <th>V22</th>\n      <th>V23</th>\n      <th>V24</th>\n      <th>V25</th>\n      <th>V26</th>\n      <th>V27</th>\n      <th>V28</th>\n      <th>Amount</th>\n      <th>Class</th>\n    </tr>\n  </thead>\n  <tbody>\n    <tr>\n      <th>0</th>\n      <td>0.0</td>\n      <td>-1.359807</td>\n      <td>-0.072781</td>\n      <td>2.536347</td>\n      <td>1.378155</td>\n      <td>-0.338321</td>\n      <td>0.462388</td>\n      <td>0.239599</td>\n      <td>0.098698</td>\n      <td>0.363787</td>\n      <td>...</td>\n      <td>-0.018307</td>\n      <td>0.277838</td>\n      <td>-0.110474</td>\n      <td>0.066928</td>\n      <td>0.128539</td>\n      <td>-0.189115</td>\n      <td>0.133558</td>\n      <td>-0.021053</td>\n      <td>149.62</td>\n      <td>0</td>\n    </tr>\n    <tr>\n      <th>1</th>\n      <td>0.0</td>\n      <td>1.191857</td>\n      <td>0.266151</td>\n      <td>0.166480</td>\n      <td>0.448154</td>\n      <td>0.060018</td>\n      <td>-0.082361</td>\n      <td>-0.078803</td>\n      <td>0.085102</td>\n      <td>-0.255425</td>\n      <td>...</td>\n      <td>-0.225775</td>\n      <td>-0.638672</td>\n      <td>0.101288</td>\n      <td>-0.339846</td>\n      <td>0.167170</td>\n      <td>0.125895</td>\n      <td>-0.008983</td>\n      <td>0.014724</td>\n      <td>2.69</td>\n      <td>0</td>\n    </tr>\n    <tr>\n      <th>2</th>\n      <td>1.0</td>\n      <td>-1.358354</td>\n      <td>-1.340163</td>\n      <td>1.773209</td>\n      <td>0.379780</td>\n      <td>-0.503198</td>\n      <td>1.800499</td>\n      <td>0.791461</td>\n      <td>0.247676</td>\n      <td>-1.514654</td>\n      <td>...</td>\n      <td>0.247998</td>\n      <td>0.771679</td>\n      <td>0.909412</td>\n      <td>-0.689281</td>\n      <td>-0.327642</td>\n      <td>-0.139097</td>\n      <td>-0.055353</td>\n      <td>-0.059752</td>\n      <td>378.66</td>\n      <td>0</td>\n    </tr>\n    <tr>\n      <th>3</th>\n      <td>1.0</td>\n      <td>-0.966272</td>\n      <td>-0.185226</td>\n      <td>1.792993</td>\n      <td>-0.863291</td>\n      <td>-0.010309</td>\n      <td>1.247203</td>\n      <td>0.237609</td>\n      <td>0.377436</td>\n      <td>-1.387024</td>\n      <td>...</td>\n      <td>-0.108300</td>\n      <td>0.005274</td>\n      <td>-0.190321</td>\n      <td>-1.175575</td>\n      <td>0.647376</td>\n      <td>-0.221929</td>\n      <td>0.062723</td>\n      <td>0.061458</td>\n      <td>123.50</td>\n      <td>0</td>\n    </tr>\n    <tr>\n      <th>4</th>\n      <td>2.0</td>\n      <td>-1.158233</td>\n      <td>0.877737</td>\n      <td>1.548718</td>\n      <td>0.403034</td>\n      <td>-0.407193</td>\n      <td>0.095921</td>\n      <td>0.592941</td>\n      <td>-0.270533</td>\n      <td>0.817739</td>\n      <td>...</td>\n      <td>-0.009431</td>\n      <td>0.798278</td>\n      <td>-0.137458</td>\n      <td>0.141267</td>\n      <td>-0.206010</td>\n      <td>0.502292</td>\n      <td>0.219422</td>\n      <td>0.215153</td>\n      <td>69.99</td>\n      <td>0</td>\n    </tr>\n  </tbody>\n</table>\n<p>5 rows × 31 columns</p>\n</div>",
       "datasetInfos": [],
       "metadata": {},
       "removedWidgets": [],
       "textData": null,
       "type": "htmlSandbox"
      }
     },
     "output_type": "display_data"
    }
   ],
   "source": [
    "#df = df.drop(\"Time\", axis=1) # cette colonne n'apporte rien à notre analyse \n",
    "df.head()\n",
    "  "
   ]
  },
  {
   "cell_type": "code",
   "execution_count": 0,
   "metadata": {
    "application/vnd.databricks.v1+cell": {
     "cellMetadata": {
      "byteLimit": 2048000,
      "rowLimit": 10000
     },
     "inputWidgets": {},
     "nuid": "7cb1a8ae-f3fa-4ea8-9599-3c698b171f85",
     "showTitle": false,
     "title": ""
    }
   },
   "outputs": [
    {
     "output_type": "stream",
     "name": "stdout",
     "output_type": "stream",
     "text": [
      "Out[5]: <AxesSubplot:xlabel='Class', ylabel='count'>"
     ]
    },
    {
     "output_type": "display_data",
     "data": {
      "image/png": "[encoded data removed]"
     },
     "metadata": {
      "application/vnd.databricks.v1+output": {
       "addedWidgets": {},
       "arguments": {},
       "data": "data:image/png;base64,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\n",
       "datasetInfos": [],
       "metadata": {},
       "removedWidgets": [],
       "type": "image"
      }
     },
     "output_type": "display_data"
    }
   ],
   "source": [
    "sns.countplot(x='Class',data=df)"
   ]
  },
  {
   "cell_type": "code",
   "execution_count": 0,
   "metadata": {
    "application/vnd.databricks.v1+cell": {
     "cellMetadata": {
      "byteLimit": 2048000,
      "rowLimit": 10000
     },
     "inputWidgets": {},
     "nuid": "c8826df7-e677-42d0-9265-e972c3070577",
     "showTitle": false,
     "title": ""
    }
   },
   "outputs": [],
   "source": [
    "normal = df[df.Class == 0].sample(frac=0.5,random_state=2020).reset_index(drop=True)\n",
    "anomaly = df[df.Class == 1]"
   ]
  },
  {
   "cell_type": "code",
   "execution_count": 0,
   "metadata": {
    "application/vnd.databricks.v1+cell": {
     "cellMetadata": {
      "byteLimit": 2048000,
      "rowLimit": 10000
     },
     "inputWidgets": {},
     "nuid": "22ce2fad-b96d-4fe6-ae8e-13e77062932b",
     "showTitle": false,
     "title": ""
    }
   },
   "outputs": [
    {
     "output_type": "stream",
     "name": "stdout",
     "output_type": "stream",
     "text": [
      "Normal: (142158, 31)\nAnomaly: (492, 31)\n"
     ]
    }
   ],
   "source": [
    "print(f\"Normal: {normal.shape}\")\n",
    "print(f\"Anomaly: {anomaly.shape}\")"
   ]
  },
  {
   "cell_type": "code",
   "execution_count": 0,
   "metadata": {
    "application/vnd.databricks.v1+cell": {
     "cellMetadata": {
      "byteLimit": 2048000,
      "rowLimit": 10000
     },
     "inputWidgets": {},
     "nuid": "5d8e4e74-4514-497c-92f5-00870f5c0d60",
     "showTitle": false,
     "title": ""
    }
   },
   "outputs": [],
   "source": [
    "normal_train, normal_test = train_test_split(normal,test_size = 0.2, random_state = 2020)\n",
    "anomaly_train, anomaly_test = train_test_split(anomaly, test_size = 0.2, random_state = 2020)\n",
    "normal_train, normal_validate = train_test_split(normal_train,test_size = 0.25, random_state = 2020)\n",
    "anomaly_train, anomaly_validate = train_test_split(anomaly_train, test_size = 0.25, random_state = 2020)"
   ]
  },
  {
   "cell_type": "code",
   "execution_count": 0,
   "metadata": {
    "application/vnd.databricks.v1+cell": {
     "cellMetadata": {
      "byteLimit": 2048000,
      "rowLimit": 10000
     },
     "inputWidgets": {},
     "nuid": "d8b829c4-0aaa-4731-b522-791c56f36b5d",
     "showTitle": false,
     "title": ""
    }
   },
   "outputs": [],
   "source": [
    "x_train = pd.concat((normal_train, anomaly_train))\n",
    "x_test = pd.concat((normal_test, anomaly_test))\n",
    "x_validate = pd.concat((normal_validate, anomaly_validate))"
   ]
  },
  {
   "cell_type": "code",
   "execution_count": 0,
   "metadata": {
    "application/vnd.databricks.v1+cell": {
     "cellMetadata": {
      "byteLimit": 2048000,
      "rowLimit": 10000
     },
     "inputWidgets": {},
     "nuid": "0f9154fc-e384-4c11-8664-d189b7dd90aa",
     "showTitle": false,
     "title": ""
    }
   },
   "outputs": [],
   "source": [
    "y_train = np.array(x_train[\"Class\"])\n",
    "y_test = np.array(x_test[\"Class\"])\n",
    "y_validate = np.array(x_validate[\"Class\"])"
   ]
  },
  {
   "cell_type": "code",
   "execution_count": 0,
   "metadata": {
    "application/vnd.databricks.v1+cell": {
     "cellMetadata": {
      "byteLimit": 2048000,
      "rowLimit": 10000
     },
     "inputWidgets": {},
     "nuid": "218a641e-5e9c-4204-8bc5-6bb17b3ecf04",
     "showTitle": false,
     "title": ""
    }
   },
   "outputs": [],
   "source": [
    "x_train = x_train.drop(\"Class\", axis=1)\n",
    "x_test = x_test.drop(\"Class\", axis=1)\n",
    "x_validate = x_validate.drop(\"Class\", axis=1)"
   ]
  },
  {
   "cell_type": "code",
   "execution_count": 0,
   "metadata": {
    "application/vnd.databricks.v1+cell": {
     "cellMetadata": {
      "byteLimit": 2048000,
      "rowLimit": 10000
     },
     "inputWidgets": {},
     "nuid": "fce1f6fa-3643-4eb8-a6bf-8ad149712741",
     "showTitle": false,
     "title": ""
    }
   },
   "outputs": [
    {
     "output_type": "stream",
     "name": "stdout",
     "output_type": "stream",
     "text": [
      "Training sets:\nx_train: (85588, 30) \ny_train:(85588,)\n\nTesting sets:\nx_test: (28531, 30) \ny_test:(28531,)\n\nValidation sets:\nx_validate: (28531, 30) \ny_validate: (28531,)\n"
     ]
    }
   ],
   "source": [
    "print(\"Training sets:\\nx_train: {} \\ny_train:{}\".format(x_train.shape, y_train.shape))\n",
    "print(\"\\nTesting sets:\\nx_test: {} \\ny_test:{}\".format(x_test.shape, y_test.shape))\n",
    "print(\"\\nValidation sets:\\nx_validate: {} \\ny_validate: {}\".format(x_validate.shape, y_validate.shape))"
   ]
  },
  {
   "cell_type": "code",
   "execution_count": 0,
   "metadata": {
    "application/vnd.databricks.v1+cell": {
     "cellMetadata": {
      "byteLimit": 2048000,
      "rowLimit": 10000
     },
     "inputWidgets": {},
     "nuid": "f9673742-2221-44a7-87c0-36f5a0d330d3",
     "showTitle": false,
     "title": ""
    }
   },
   "outputs": [
    {
     "output_type": "stream",
     "name": "stdout",
     "output_type": "stream",
     "text": [
      "Out[13]: StandardScaler()"
     ]
    }
   ],
   "source": [
    "scaler = StandardScaler()\n",
    "scaler.fit(pd.concat((normal, anomaly)).drop(\"Class\", axis=1))"
   ]
  },
  {
   "cell_type": "code",
   "execution_count": 0,
   "metadata": {
    "application/vnd.databricks.v1+cell": {
     "cellMetadata": {
      "byteLimit": 2048000,
      "rowLimit": 10000
     },
     "inputWidgets": {},
     "nuid": "c722fc83-a64a-4356-b12f-7fd98db8b79d",
     "showTitle": false,
     "title": ""
    }
   },
   "outputs": [],
   "source": [
    "x_train = scaler.transform(x_train)\n",
    "x_test = scaler.transform(x_test)\n",
    "x_validate = scaler.transform(x_validate)"
   ]
  },
  {
   "cell_type": "code",
   "execution_count": 0,
   "metadata": {
    "application/vnd.databricks.v1+cell": {
     "cellMetadata": {
      "byteLimit": 2048000,
      "rowLimit": 10000
     },
     "inputWidgets": {},
     "nuid": "bfc4d63f-a9c7-4239-8d2c-2819312632ec",
     "showTitle": false,
     "title": ""
    }
   },
   "outputs": [],
   "source": [
    "def train(sk_model, x_train, y_train):\n",
    "    sk_model = sk_model.fit(x_train, y_train)\n",
    "    train_acc = sk_model.score(x_train, y_train)\n",
    "    mlflow.log_metric(\"train_acc\", train_acc)\n",
    "    print(f\"Train Accuracy: {train_acc:.3%}\")"
   ]
  },
  {
   "cell_type": "code",
   "execution_count": 0,
   "metadata": {
    "application/vnd.databricks.v1+cell": {
     "cellMetadata": {
      "byteLimit": 2048000,
      "rowLimit": 10000
     },
     "inputWidgets": {},
     "nuid": "cabf8c63-9946-40f5-a966-3bfa0b14bc3e",
     "showTitle": false,
     "title": ""
    }
   },
   "outputs": [],
   "source": [
    "def evaluate(sk_model, x_test, y_test):\n",
    "    eval_acc = sk_model.score(x_test, y_test)\n",
    "    preds = sk_model.predict(x_test)\n",
    "    auc_score = roc_auc_score(y_test, preds)\n",
    "    mlflow.log_metric(\"eval_acc\", eval_acc) # nous avons fait la même chose pour l'accuracy de test (evaluation)\n",
    "    mlflow.log_metric(\"auc_score\", auc_score)# aussi pour l'AUC score \n",
    "    print(f\"Auc Score: {auc_score:.3%}\")\n",
    "    print(f\"Eval Accuracy: {eval_acc:.3%}\")\n",
    "    roc_plot = RocCurveDisplay.from_estimator(sk_model, x_test, y_test,name='Scikit-learn ROC Curve')\n",
    "    plt.savefig(\"sklearn_roc_plot.png\")\n",
    "    plt.show()\n",
    "    plt.clf()\n",
    "    conf_matrix = confusion_matrix(y_test, preds)\n",
    "    ax = sns.heatmap(conf_matrix, annot=True,fmt='g')\n",
    "    ax.invert_xaxis()\n",
    "    ax.invert_yaxis()\n",
    "    plt.ylabel('Actual')\n",
    "    plt.xlabel('Predicted')\n",
    "    plt.title(\"Confusion Matrix\")\n",
    "    plt.savefig(\"sklearn_conf_matrix.png\")\n",
    "    # nous avons dit à MLflow de sauvegarder ces deux figure afin de les consulter à chaque \n",
    "    # exécution d'une façon organisée comme nous allons le voir plus loin dans cet atelier  \n",
    "    mlflow.log_artifact(\"sklearn_roc_plot.png\")\n",
    "    mlflow.log_artifact(\"sklearn_conf_matrix.png\")"
   ]
  },
  {
   "cell_type": "code",
   "execution_count": 0,
   "metadata": {
    "application/vnd.databricks.v1+cell": {
     "cellMetadata": {
      "byteLimit": 2048000,
      "rowLimit": 10000
     },
     "inputWidgets": {},
     "nuid": "7dc551ab-f1ba-4b81-9173-580e0d155318",
     "showTitle": false,
     "title": ""
    }
   },
   "outputs": [
    {
     "output_type": "stream",
     "name": "stdout",
     "output_type": "stream",
     "text": [
      "Wrote 97 bytes.\nOut[17]: True"
     ]
    }
   ],
   "source": [
    "#to configure your DataBricks CLI\n",
    "token = dbutils.notebook.entry_point.getDbutils().notebook().getContext().apiToken().get()\n",
    "dbutils.fs.put(\"file:///root/.databrickscfg\",\"[DEFAULT]\\nhost=https://community.cloud.databricks.com\\ntoken =\"+token,overwrite=True)"
   ]
  },
  {
   "cell_type": "code",
   "execution_count": 0,
   "metadata": {
    "application/vnd.databricks.v1+cell": {
     "cellMetadata": {
      "byteLimit": 2048000,
      "rowLimit": 10000
     },
     "inputWidgets": {},
     "nuid": "ad5ef2cc-cf73-40fc-98ff-a9b4b2750298",
     "showTitle": false,
     "title": ""
    }
   },
   "outputs": [
    {
     "output_type": "stream",
     "name": "stderr",
     "output_type": "stream",
     "text": [
      "/databricks/python/lib/python3.9/site-packages/sklearn/utils/optimize.py:210: ConvergenceWarning: newton-cg failed to converge. Increase the number of iterations.\n  warnings.warn(\n"
     ]
    },
    {
     "output_type": "stream",
     "name": "stdout",
     "output_type": "stream",
     "text": [
      "Train Accuracy: 99.896%\nAuc Score: 85.343%\nEval Accuracy: 99.877%\n"
     ]
    },
    {
     "output_type": "display_data",
     "data": {
      "image/png": "[encoded data removed]"
     },
     "metadata": {
      "application/vnd.databricks.v1+output": {
       "addedWidgets": {},
       "arguments": {},
       "data": "data:image/png;base64,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\n",
       "datasetInfos": [],
       "metadata": {},
       "removedWidgets": [],
       "type": "image"
      }
     },
     "output_type": "display_data"
    },
    {
     "output_type": "stream",
     "name": "stdout",
     "output_type": "stream",
     "text": [
      "Model run:  117ae14dc6924b55a32866906c865a9b\n"
     ]
    },
    {
     "output_type": "display_data",
     "data": {
      "image/png": "[encoded data removed]"
     },
     "metadata": {
      "application/vnd.databricks.v1+output": {
       "addedWidgets": {},
       "arguments": {},
       "data": "data:image/png;base64,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\n",
       "datasetInfos": [],
       "metadata": {},
       "removedWidgets": [],
       "type": "image"
      }
     },
     "output_type": "display_data"
    }
   ],
   "source": [
    "from sklearn.metrics import RocCurveDisplay\n",
    "sk_model = LogisticRegression(random_state=None,max_iter=10, solver='newton-cg')\n",
    "mlflow.set_experiment(\"/Users/tadlaouisalma25@gmail.com/scikit_learn_experiment1\")\n",
    "with mlflow.start_run():\n",
    "    train(sk_model, x_train, y_train)\n",
    "    evaluate(sk_model, x_test, y_test)\n",
    "    mlflow.sklearn.log_model(sk_model, \"log_reg_model\")\n",
    "    print(\"Model run: \", mlflow.active_run().info.run_uuid)\n",
    "mlflow.end_run()"
   ]
  },
  {
   "cell_type": "code",
   "execution_count": 0,
   "metadata": {
    "application/vnd.databricks.v1+cell": {
     "cellMetadata": {
      "byteLimit": 2048000,
      "rowLimit": 10000
     },
     "inputWidgets": {},
     "nuid": "3413c518-1432-486b-89d1-31de2aadbbf5",
     "showTitle": false,
     "title": ""
    }
   },
   "outputs": [
    {
     "output_type": "display_data",
     "data": {
      "text/html": [
       "<style scoped>\n",
       "  .ansiout {\n",
       "    display: block;\n",
       "    unicode-bidi: embed;\n",
       "    white-space: pre-wrap;\n",
       "    word-wrap: break-word;\n",
       "    word-break: break-all;\n",
       "    font-family: \"Menlo\", \"Monaco\", \"Consolas\", \"Ubuntu Mono\", \"Source Code Pro\", monospace;\n",
       "    font-size: 13px;\n",
       "    color: #555;\n",
       "    margin-left: 4px;\n",
       "    line-height: 19px;\n",
       "  }\n",
       "</style>"
      ]
     },
     "metadata": {
      "application/vnd.databricks.v1+output": {
       "arguments": {},
       "data": "",
       "errorSummary": "Cancelled",
       "errorTraceType": "html",
       "metadata": {},
       "type": "ipynbError"
      }
     },
     "output_type": "display_data"
    }
   ],
   "source": [
    "\n",
    "# define evaluation\n",
    "\n",
    "# define search space\n",
    "from sklearn.model_selection import RepeatedStratifiedKFold\n",
    "from sklearn.model_selection import RandomizedSearchCV\n",
    "from scipy.stats import loguniform\n",
    "# summarize result\n",
    "#print('Best Score: %s' % result.best_score_)\n",
    "#print('Best Hyperparameters: %s' % result.best_params_)\n",
    "\n",
    "model = LogisticRegression()\n",
    "cv = RepeatedStratifiedKFold(n_splits=10, n_repeats=3, random_state=1)\n",
    "space = dict()\n",
    "space['solver'] = ['newton-cg', 'lbfgs', 'liblinear']\n",
    "space['penalty'] = ['none', 'l1', 'l2', 'elasticnet']\n",
    "space['C'] = loguniform(1e-5, 100)\n",
    "mlflow.set_experiment(\"/Users/tadlaouisalma25@gmail.com/scikit_learn_experiment1\")\n",
    "with mlflow.start_run():\n",
    "    search = RandomizedSearchCV(model, space, n_iter=500, scoring='accuracy', n_jobs=-1, cv=cv, random_state=1)\n",
    "    sk_model = search.fit(x_train, y_train)\n",
    "    train(sk_model, x_train, y_train)\n",
    "    evaluate(sk_model, x_test, y_test)\n",
    "    mlflow.sklearn.log_model(sk_model, \"log_reg_model\")\n",
    "    print(\"Model run: \", mlflow.active_run().info.run_uuid)\n",
    "mlflow.end_run()"
   ]
  },
  {
   "cell_type": "code",
   "execution_count": 0,
   "metadata": {
    "application/vnd.databricks.v1+cell": {
     "cellMetadata": {
      "byteLimit": 2048000,
      "rowLimit": 10000
     },
     "inputWidgets": {},
     "nuid": "484c7e86-82b2-4fea-aacf-15612b24dff7",
     "showTitle": false,
     "title": ""
    }
   },
   "outputs": [
    {
     "output_type": "display_data",
     "data": {
      "text/html": [
       "<style scoped>\n",
       "  .table-result-container {\n",
       "    max-height: 300px;\n",
       "    overflow: auto;\n",
       "  }\n",
       "  table, th, td {\n",
       "    border: 1px solid black;\n",
       "    border-collapse: collapse;\n",
       "  }\n",
       "  th, td {\n",
       "    padding: 5px;\n",
       "  }\n",
       "  th {\n",
       "    text-align: left;\n",
       "  }\n",
       "</style><div class='table-result-container'><table class='table-result'><thead style='background-color: white'><tr><th>run_id</th><th>experiment_id</th><th>status</th><th>artifact_uri</th><th>start_time</th><th>end_time</th><th>metrics.auc_score</th><th>metrics.eval_acc</th><th>metrics.train_acc</th><th>tags.mlflow.databricks.cluster.id</th><th>tags.mlflow.databricks.notebookRevisionID</th><th>tags.mlflow.user</th><th>tags.mlflow.source.name</th><th>tags.mlflow.databricks.notebookPath</th><th>tags.mlflow.runName</th><th>tags.mlflow.databricks.notebookID</th><th>tags.mlflow.source.type</th><th>tags.mlflow.databricks.cluster.info</th><th>tags.mlflow.databricks.notebook.commandID</th><th>tags.mlflow.databricks.webappURL</th><th>tags.mlflow.databricks.cluster.libraries</th><th>tags.mlflow.log-model.history</th></tr></thead><tbody><tr><td>c71dc17f3a794e24811cdadbeb15aee8</td><td>723360604805015</td><td>FAILED</td><td>dbfs:/databricks/mlflow-tracking/723360604805015/c71dc17f3a794e24811cdadbeb15aee8/artifacts</td><td>2024-01-07T19:01:19.961+0000</td><td>2024-01-07T19:25:50.741+0000</td><td>null</td><td>null</td><td>null</td><td>0107-182129-w27ns1ll</td><td>1704655551182</td><td>tadlaouisalma25@gmail.com</td><td>/Users/tadlaouisalma25@gmail.com/5. MLflow-DataBricks (2)</td><td>/Users/tadlaouisalma25@gmail.com/5. MLflow-DataBricks (2)</td><td>handsome-horse-87</td><td>723360604804990</td><td>NOTEBOOK</td><td>{\"cluster_name\":\"cluster\",\"spark_version\":\"12.2.x-scala2.12\",\"node_type_id\":\"dev-tier-node\",\"driver_node_type_id\":\"dev-tier-node\",\"autotermination_minutes\":120,\"disk_spec\":{\"disk_count\":0},\"num_workers\":0}</td><td>3126197929566587417_7520891962109704890_c451860a00a146feabacb36031aa62b7</td><td>https://community.cloud.databricks.com</td><td>{\"installable\":[],\"redacted\":[]}</td><td>null</td></tr><tr><td>117ae14dc6924b55a32866906c865a9b</td><td>723360604805015</td><td>FINISHED</td><td>dbfs:/databricks/mlflow-tracking/723360604805015/117ae14dc6924b55a32866906c865a9b/artifacts</td><td>2024-01-07T19:00:51.353+0000</td><td>2024-01-07T19:00:59.906+0000</td><td>0.8534298386225793</td><td>0.9987732641687989</td><td>0.9989601345983081</td><td>0107-182129-w27ns1ll</td><td>1704654060492</td><td>tadlaouisalma25@gmail.com</td><td>/Users/tadlaouisalma25@gmail.com/5. MLflow-DataBricks (2)</td><td>/Users/tadlaouisalma25@gmail.com/5. MLflow-DataBricks (2)</td><td>overjoyed-slug-632</td><td>723360604804990</td><td>NOTEBOOK</td><td>{\"cluster_name\":\"cluster\",\"spark_version\":\"12.2.x-scala2.12\",\"node_type_id\":\"dev-tier-node\",\"driver_node_type_id\":\"dev-tier-node\",\"autotermination_minutes\":120,\"disk_spec\":{\"disk_count\":0},\"num_workers\":0}</td><td>3126197929566587417_7910413006036048779_6e48b40dc88347a6b66584cb3ddba764</td><td>https://community.cloud.databricks.com</td><td>{\"installable\":[],\"redacted\":[]}</td><td>[{\"artifact_path\":\"log_reg_model\",\"flavors\":{\"python_function\":{\"model_path\":\"model.pkl\",\"loader_module\":\"mlflow.sklearn\",\"python_version\":\"3.9.5\",\"env\":\"conda.yaml\"},\"sklearn\":{\"pickled_model\":\"model.pkl\",\"sklearn_version\":\"1.0.2\",\"serialization_format\":\"cloudpickle\"}},\"run_id\":\"117ae14dc6924b55a32866906c865a9b\",\"utc_time_created\":\"2024-01-07 19:00:55.845503\",\"databricks_runtime\":\"12.2.x-scala2.12\"}]</td></tr><tr><td>89c0d06b7276447f9625d4d6575ca9c0</td><td>723360604805015</td><td>FAILED</td><td>dbfs:/databricks/mlflow-tracking/723360604805015/89c0d06b7276447f9625d4d6575ca9c0/artifacts</td><td>2024-01-07T18:40:38.780+0000</td><td>2024-01-07T18:58:38.064+0000</td><td>null</td><td>null</td><td>null</td><td>0107-182129-w27ns1ll</td><td>1704653918738</td><td>tadlaouisalma25@gmail.com</td><td>/Users/tadlaouisalma25@gmail.com/5. MLflow-DataBricks (2)</td><td>/Users/tadlaouisalma25@gmail.com/5. MLflow-DataBricks (2)</td><td>indecisive-loon-519</td><td>723360604804990</td><td>NOTEBOOK</td><td>{\"cluster_name\":\"cluster\",\"spark_version\":\"12.2.x-scala2.12\",\"node_type_id\":\"dev-tier-node\",\"driver_node_type_id\":\"dev-tier-node\",\"autotermination_minutes\":120,\"disk_spec\":{\"disk_count\":0},\"num_workers\":0}</td><td>5816342511405739036_7881408435220551452_bdc5add8a1f94981a3580ea99b269db5</td><td>https://community.cloud.databricks.com</td><td>{\"installable\":[],\"redacted\":[]}</td><td>null</td></tr><tr><td>61756a806bb14e79a4d44b3fce5e393a</td><td>723360604805015</td><td>FINISHED</td><td>dbfs:/databricks/mlflow-tracking/723360604805015/61756a806bb14e79a4d44b3fce5e393a/artifacts</td><td>2024-01-07T18:40:11.289+0000</td><td>2024-01-07T18:40:20.391+0000</td><td>0.8534122528037835</td><td>0.9987382145736217</td><td>0.9989250829555545</td><td>0107-182129-w27ns1ll</td><td>1704652820768</td><td>tadlaouisalma25@gmail.com</td><td>/Users/tadlaouisalma25@gmail.com/5. MLflow-DataBricks (2)</td><td>/Users/tadlaouisalma25@gmail.com/5. MLflow-DataBricks (2)</td><td>burly-stag-261</td><td>723360604804990</td><td>NOTEBOOK</td><td>{\"cluster_name\":\"cluster\",\"spark_version\":\"12.2.x-scala2.12\",\"node_type_id\":\"dev-tier-node\",\"driver_node_type_id\":\"dev-tier-node\",\"autotermination_minutes\":120,\"disk_spec\":{\"disk_count\":0},\"num_workers\":0}</td><td>5816342511405739036_4907034245199428138_6e2c285746624221af3edba7ec58da73</td><td>https://community.cloud.databricks.com</td><td>{\"installable\":[],\"redacted\":[]}</td><td>[{\"artifact_path\":\"log_reg_model\",\"flavors\":{\"python_function\":{\"model_path\":\"model.pkl\",\"loader_module\":\"mlflow.sklearn\",\"python_version\":\"3.9.5\",\"env\":\"conda.yaml\"},\"sklearn\":{\"pickled_model\":\"model.pkl\",\"sklearn_version\":\"1.0.2\",\"serialization_format\":\"cloudpickle\"}},\"run_id\":\"61756a806bb14e79a4d44b3fce5e393a\",\"utc_time_created\":\"2024-01-07 18:40:16.316075\",\"databricks_runtime\":\"12.2.x-scala2.12\"}]</td></tr></tbody></table></div>"
      ]
     },
     "metadata": {
      "application/vnd.databricks.v1+output": {
       "addedWidgets": {},
       "aggData": [],
       "aggError": "",
       "aggOverflow": false,
       "aggSchema": [],
       "aggSeriesLimitReached": false,
       "aggType": "",
       "arguments": {},
       "columnCustomDisplayInfos": {},
       "data": [
        [
         "c71dc17f3a794e24811cdadbeb15aee8",
         "723360604805015",
         "FAILED",
         "dbfs:/databricks/mlflow-tracking/723360604805015/c71dc17f3a794e24811cdadbeb15aee8/artifacts",
         "2024-01-07T19:01:19.961+0000",
         "2024-01-07T19:25:50.741+0000",
         null,
         null,
         null,
         "0107-182129-w27ns1ll",
         "1704655551182",
         "tadlaouisalma25@gmail.com",
         "/Users/tadlaouisalma25@gmail.com/5. MLflow-DataBricks (2)",
         "/Users/tadlaouisalma25@gmail.com/5. MLflow-DataBricks (2)",
         "handsome-horse-87",
         "723360604804990",
         "NOTEBOOK",
         "{\"cluster_name\":\"cluster\",\"spark_version\":\"12.2.x-scala2.12\",\"node_type_id\":\"dev-tier-node\",\"driver_node_type_id\":\"dev-tier-node\",\"autotermination_minutes\":120,\"disk_spec\":{\"disk_count\":0},\"num_workers\":0}",
         "3126197929566587417_7520891962109704890_c451860a00a146feabacb36031aa62b7",
         "https://community.cloud.databricks.com",
         "{\"installable\":[],\"redacted\":[]}",
         null
        ],
        [
         "117ae14dc6924b55a32866906c865a9b",
         "723360604805015",
         "FINISHED",
         "dbfs:/databricks/mlflow-tracking/723360604805015/117ae14dc6924b55a32866906c865a9b/artifacts",
         "2024-01-07T19:00:51.353+0000",
         "2024-01-07T19:00:59.906+0000",
         0.8534298386225793,
         0.9987732641687989,
         0.9989601345983081,
         "0107-182129-w27ns1ll",
         "1704654060492",
         "tadlaouisalma25@gmail.com",
         "/Users/tadlaouisalma25@gmail.com/5. MLflow-DataBricks (2)",
         "/Users/tadlaouisalma25@gmail.com/5. MLflow-DataBricks (2)",
         "overjoyed-slug-632",
         "723360604804990",
         "NOTEBOOK",
         "{\"cluster_name\":\"cluster\",\"spark_version\":\"12.2.x-scala2.12\",\"node_type_id\":\"dev-tier-node\",\"driver_node_type_id\":\"dev-tier-node\",\"autotermination_minutes\":120,\"disk_spec\":{\"disk_count\":0},\"num_workers\":0}",
         "3126197929566587417_7910413006036048779_6e48b40dc88347a6b66584cb3ddba764",
         "https://community.cloud.databricks.com",
         "{\"installable\":[],\"redacted\":[]}",
         "[{\"artifact_path\":\"log_reg_model\",\"flavors\":{\"python_function\":{\"model_path\":\"model.pkl\",\"loader_module\":\"mlflow.sklearn\",\"python_version\":\"3.9.5\",\"env\":\"conda.yaml\"},\"sklearn\":{\"pickled_model\":\"model.pkl\",\"sklearn_version\":\"1.0.2\",\"serialization_format\":\"cloudpickle\"}},\"run_id\":\"117ae14dc6924b55a32866906c865a9b\",\"utc_time_created\":\"2024-01-07 19:00:55.845503\",\"databricks_runtime\":\"12.2.x-scala2.12\"}]"
        ],
        [
         "89c0d06b7276447f9625d4d6575ca9c0",
         "723360604805015",
         "FAILED",
         "dbfs:/databricks/mlflow-tracking/723360604805015/89c0d06b7276447f9625d4d6575ca9c0/artifacts",
         "2024-01-07T18:40:38.780+0000",
         "2024-01-07T18:58:38.064+0000",
         null,
         null,
         null,
         "0107-182129-w27ns1ll",
         "1704653918738",
         "tadlaouisalma25@gmail.com",
         "/Users/tadlaouisalma25@gmail.com/5. MLflow-DataBricks (2)",
         "/Users/tadlaouisalma25@gmail.com/5. MLflow-DataBricks (2)",
         "indecisive-loon-519",
         "723360604804990",
         "NOTEBOOK",
         "{\"cluster_name\":\"cluster\",\"spark_version\":\"12.2.x-scala2.12\",\"node_type_id\":\"dev-tier-node\",\"driver_node_type_id\":\"dev-tier-node\",\"autotermination_minutes\":120,\"disk_spec\":{\"disk_count\":0},\"num_workers\":0}",
         "5816342511405739036_7881408435220551452_bdc5add8a1f94981a3580ea99b269db5",
         "https://community.cloud.databricks.com",
         "{\"installable\":[],\"redacted\":[]}",
         null
        ],
        [
         "61756a806bb14e79a4d44b3fce5e393a",
         "723360604805015",
         "FINISHED",
         "dbfs:/databricks/mlflow-tracking/723360604805015/61756a806bb14e79a4d44b3fce5e393a/artifacts",
         "2024-01-07T18:40:11.289+0000",
         "2024-01-07T18:40:20.391+0000",
         0.8534122528037835,
         0.9987382145736217,
         0.9989250829555545,
         "0107-182129-w27ns1ll",
         "1704652820768",
         "tadlaouisalma25@gmail.com",
         "/Users/tadlaouisalma25@gmail.com/5. MLflow-DataBricks (2)",
         "/Users/tadlaouisalma25@gmail.com/5. MLflow-DataBricks (2)",
         "burly-stag-261",
         "723360604804990",
         "NOTEBOOK",
         "{\"cluster_name\":\"cluster\",\"spark_version\":\"12.2.x-scala2.12\",\"node_type_id\":\"dev-tier-node\",\"driver_node_type_id\":\"dev-tier-node\",\"autotermination_minutes\":120,\"disk_spec\":{\"disk_count\":0},\"num_workers\":0}",
         "5816342511405739036_4907034245199428138_6e2c285746624221af3edba7ec58da73",
         "https://community.cloud.databricks.com",
         "{\"installable\":[],\"redacted\":[]}",
         "[{\"artifact_path\":\"log_reg_model\",\"flavors\":{\"python_function\":{\"model_path\":\"model.pkl\",\"loader_module\":\"mlflow.sklearn\",\"python_version\":\"3.9.5\",\"env\":\"conda.yaml\"},\"sklearn\":{\"pickled_model\":\"model.pkl\",\"sklearn_version\":\"1.0.2\",\"serialization_format\":\"cloudpickle\"}},\"run_id\":\"61756a806bb14e79a4d44b3fce5e393a\",\"utc_time_created\":\"2024-01-07 18:40:16.316075\",\"databricks_runtime\":\"12.2.x-scala2.12\"}]"
        ]
       ],
       "datasetInfos": [],
       "dbfsResultPath": null,
       "isJsonSchema": true,
       "metadata": {},
       "overflow": false,
       "plotOptions": {
        "customPlotOptions": {},
        "displayType": "table",
        "pivotAggregation": null,
        "pivotColumns": null,
        "xColumns": null,
        "yColumns": null
       },
       "removedWidgets": [],
       "schema": [
        {
         "metadata": "{}",
         "name": "run_id",
         "type": "\"string\""
        },
        {
         "metadata": "{}",
         "name": "experiment_id",
         "type": "\"string\""
        },
        {
         "metadata": "{}",
         "name": "status",
         "type": "\"string\""
        },
        {
         "metadata": "{}",
         "name": "artifact_uri",
         "type": "\"string\""
        },
        {
         "metadata": "{}",
         "name": "start_time",
         "type": "\"timestamp\""
        },
        {
         "metadata": "{}",
         "name": "end_time",
         "type": "\"timestamp\""
        },
        {
         "metadata": "{}",
         "name": "metrics.auc_score",
         "type": "\"double\""
        },
        {
         "metadata": "{}",
         "name": "metrics.eval_acc",
         "type": "\"double\""
        },
        {
         "metadata": "{}",
         "name": "metrics.train_acc",
         "type": "\"double\""
        },
        {
         "metadata": "{}",
         "name": "tags.mlflow.databricks.cluster.id",
         "type": "\"string\""
        },
        {
         "metadata": "{}",
         "name": "tags.mlflow.databricks.notebookRevisionID",
         "type": "\"string\""
        },
        {
         "metadata": "{}",
         "name": "tags.mlflow.user",
         "type": "\"string\""
        },
        {
         "metadata": "{}",
         "name": "tags.mlflow.source.name",
         "type": "\"string\""
        },
        {
         "metadata": "{}",
         "name": "tags.mlflow.databricks.notebookPath",
         "type": "\"string\""
        },
        {
         "metadata": "{}",
         "name": "tags.mlflow.runName",
         "type": "\"string\""
        },
        {
         "metadata": "{}",
         "name": "tags.mlflow.databricks.notebookID",
         "type": "\"string\""
        },
        {
         "metadata": "{}",
         "name": "tags.mlflow.source.type",
         "type": "\"string\""
        },
        {
         "metadata": "{}",
         "name": "tags.mlflow.databricks.cluster.info",
         "type": "\"string\""
        },
        {
         "metadata": "{}",
         "name": "tags.mlflow.databricks.notebook.commandID",
         "type": "\"string\""
        },
        {
         "metadata": "{}",
         "name": "tags.mlflow.databricks.webappURL",
         "type": "\"string\""
        },
        {
         "metadata": "{}",
         "name": "tags.mlflow.databricks.cluster.libraries",
         "type": "\"string\""
        },
        {
         "metadata": "{}",
         "name": "tags.mlflow.log-model.history",
         "type": "\"string\""
        }
       ],
       "type": "table"
      }
     },
     "output_type": "display_data"
    }
   ],
   "source": [
    "all_runs = mlflow.search_runs(max_results=10)  # Note : This is pandas dataframe\n",
    "display(all_runs)"
   ]
  },
  {
   "cell_type": "markdown",
   "metadata": {
    "application/vnd.databricks.v1+cell": {
     "cellMetadata": {},
     "inputWidgets": {},
     "nuid": "52230943-0dd9-4d07-b541-d5fcd525da8f",
     "showTitle": false,
     "title": ""
    }
   },
   "source": [
    "TAF: \n",
    "\n",
    "1. réexécutez la cellule 18 en utilisant d'autres modèle ML de SKlearn \n",
    "2. comparez vos résultats en utilisant l'outil de comparaison de MLFlow"
   ]
  },
  {
   "cell_type": "code",
   "execution_count": 0,
   "metadata": {
    "application/vnd.databricks.v1+cell": {
     "cellMetadata": {
      "byteLimit": 2048000,
      "rowLimit": 10000
     },
     "inputWidgets": {},
     "nuid": "557e4e7f-be3a-41d1-ab3b-7b8c1d8f6983",
     "showTitle": false,
     "title": ""
    }
   },
   "outputs": [
    {
     "output_type": "stream",
     "name": "stdout",
     "output_type": "stream",
     "text": [
      "Train Accuracy: 99.944%\nAuc Score: 83.833%\nEval Accuracy: 99.877%\n"
     ]
    },
    {
     "output_type": "display_data",
     "data": {
      "image/png": "[encoded data removed]"
     },
     "metadata": {
      "application/vnd.databricks.v1+output": {
       "addedWidgets": {},
       "arguments": {},
       "data": "data:image/png;base64,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\n",
       "datasetInfos": [],
       "metadata": {},
       "removedWidgets": [],
       "type": "image"
      }
     },
     "output_type": "display_data"
    },
    {
     "output_type": "stream",
     "name": "stdout",
     "output_type": "stream",
     "text": [
      "Model run:  d22035bffbee487ababaf0c47cb91034\n"
     ]
    },
    {
     "output_type": "display_data",
     "data": {
      "image/png": "[encoded data removed]"
     },
     "metadata": {
      "application/vnd.databricks.v1+output": {
       "addedWidgets": {},
       "arguments": {},
       "data": "data:image/png;base64,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\n",
       "datasetInfos": [],
       "metadata": {},
       "removedWidgets": [],
       "type": "image"
      }
     },
     "output_type": "display_data"
    }
   ],
   "source": [
    "from sklearn.svm import SVC\n",
    "svm_model = SVC(random_state=None)\n",
    "\n",
    "# Set up your MLflow experiment\n",
    "mlflow.set_experiment(\"/Users/tadlaouisalma25@gmail.com/scikit_learn_experiment1\")\n",
    "\n",
    "# Start an MLflow run\n",
    "with mlflow.start_run():\n",
    "    train(svm_model, x_train, y_train)\n",
    "    evaluate(svm_model, x_test, y_test)\n",
    "    print(\"Model run: \", mlflow.active_run().info.run_uuid)\n",
    "\n",
    "mlflow.end_run()"
   ]
  },
  {
   "cell_type": "code",
   "execution_count": 0,
   "metadata": {
    "application/vnd.databricks.v1+cell": {
     "cellMetadata": {
      "byteLimit": 2048000,
      "rowLimit": 10000
     },
     "inputWidgets": {},
     "nuid": "4afb7a6d-fecf-46d5-a703-00317fcf2e35",
     "showTitle": false,
     "title": ""
    }
   },
   "outputs": [
    {
     "output_type": "stream",
     "name": "stdout",
     "output_type": "stream",
     "text": [
      "Train Accuracy: 100.000%\nAuc Score: 88.884%\nEval Accuracy: 99.912%\n"
     ]
    },
    {
     "output_type": "display_data",
     "data": {
      "image/png": "[encoded data removed]"
     },
     "metadata": {
      "application/vnd.databricks.v1+output": {
       "addedWidgets": {},
       "arguments": {},
       "data": "data:image/png;base64,iVBORw0KGgoAAAANSUhEUgAAAYIAAAEGCAYAAABo25JHAAAAOXRFWHRTb2Z0d2FyZQBNYXRwbG90bGliIHZlcnNpb24zLjUuMSwgaHR0cHM6Ly9tYXRwbG90bGliLm9yZy/YYfK9AAAACXBIWXMAAAsTAAALEwEAmpwYAAAuUUlEQVR4nO3deXwV1f3/8deHEAhLgsqiyC4gKjtEqtRawGJxpVYL2i9Wa/36rdaldfmW1o1qF6vWL+6KliraKtWKP6S4A+4KBCKyiKWIGERFishiICGf3x8zCffeLHey3BuSvJ+PRx65M3Nm5jP3Jufcc87MOebuiIhI09WsvgMQEZH6pYJARKSJU0EgItLEqSAQEWniVBCIiDRxzes7gOrq0KGD9+zZs77DEBFpUPLy8r5w944VbWtwBUHPnj1ZvHhxfYchItKgmNlHlW1T05CISBOngkBEpIlTQSAi0sSpIBARaeJUEIiINHEpKwjMbLqZfW5myyvZbmZ2h5mtMbNlZjYsVbGIiEjlUlkjeAgYV8X2E4C+4c8FwL0pjEVERCqRsucI3P1VM+tZRZLxwAwPxsF+28z2M7PO7r4xVTGJiOyr9pQ42wqL+OrrYr4qLAp+wtfbCov56usijju8E4O67lfn567PB8q6AB/HLBeE68oVBGZ2AUGtge7du6clOBGR6thdXBKXaZdm5NsqydQT123fVZz0HB2zWza6giAyd58GTAPIzc3VTDoiUqfcncKikrJMe2uSTHvvunC5sIjCopIqz9HMIKdVJjlZmWRnNScnK5OeHVqTk5VJTqu964I0zcnOyiSn1d51bVs2J6OZpeT667Mg2AB0i1nuGq4TEakWd2fH7j3xmfbXRWzbtfd1WSZeSaZetKfq75iZGUa72Iy8VSYHt2tFTqsw0w7XxW7PCTPz7KxM2rTIwCw1GXlt1WdBMBu42MweB74BbFX/gEjTtKfE2R5m0ltjM+2vi/gq/L03Ey+fqW8rLKIkSVtBq8yMuEz7gDYt6Nm+TYWZdk7CupysTFo2b7bPZuS1lbKCwMweA0YBHcysALgeyARw9/uAucCJwBpgJ/DjVMUiIqm1u7i0WaWKTLvSTD1a+3h2y+ZxmXbndln0OzC7kox8bwaeHTaztGiux6Yqk8q7hs5Kst2Bn6Xq/CISjbuzq7hkb7NKQqZdcUYevz1q+3hZO3hWJj3at64w0078Jp6TlUnbrNS1j0sD6SwWkcolto9XfNdKVZl6Mbv3VJ2RZ2ZYXEdmTqtMDmqXVWXnZmzn577cPi4qCETqXWz7eGxHZnwTSmnnZvx95qWZerL28azMZnGZ9n6tW9C9fZtKOjhjfof7NOb2cVFBIFJrpe3jVWba4TfwxHXbCovZFqF9vG3L5nGZ9kE5WRx6YHbZuvhbD+MzdbWPSzIqCKRJi28fT55pV7T966I9VZ6jmRHXbJKd1ZzuB7Su9Jt4aaZeequi2scl1VQQSINW2j4eNdOuqMmlOu3jpZl0aft43Dfxsow+vq1c7eOyr1NBIPWqpMTZtitq52bCg0Dh7z1JGshj28ezE9rHK+vgbBeTqWdlqn1cGrdIBYGZNQMGAwcDXwPL3f3zVAYmDUPRnpK4jDr5I/nx66rTPl6aaQft47Hfxiv+Jh7cP96cls0z0vBOiDRcVRYEZtYb+CXwHeBfwCYgCzjUzHYC9wMPu3vVdWvZZxUW7aky0042YFay9nEzEppQgvbxym813Ns+np3VnLYtm9M8Qx2dIqmUrEbwW4J5Av4nfACsjJl1An4InA08nJrwpCruzs7deyJn2qUPC22LeXBod3HVZXjzZpZwS2EmnbJbxj/wk3jXSsxj+m1aNKeZOjpF9mlVFgRVPR0cNg1NreuAmpLY9vFknZuVDZgVpX08duyU/Vpl0m3/VlWPrRLzWu3jIo1fjTuLzWysu79Yl8E0NLHt48nGVom9NbE07fZdxXiSB4HatMiIy7Q7ZWfRp2PloxzGrlP7uIhEUZu7hv4MNMpZYrYVFpH/8ZcsXf8ln28rrHTArJ27k7ePZ7eMz7S7HdC6wkw7cWyVnFZqHxeR9EjWWTy7sk1A+7oPJ/3cnXWbd5L30RaWrN/Cko+2sPqzbbgHGfn+rVvEPejTKbttpU0qZZl6K7WPi0jDkaxG8C1gErA9Yb0BI1ISUZrMfvcTZudvYMn6L/nPjt0AZGc1Z2j3/TlhQGeG9diPId32Izsrs54jFRFJrWQFwdvATnd/JXGDma1OTUip92ReAVc+8S7dD2jNcYd1YliP/RneY3/6dGyrb/Ai0uQku2vohCq2HVv34aTWjl3F3PL8ah55+yO+2ac9fzl3hAbjEpEmr0nlgq/96wseenMdXfdvxX2ThqsQEBGhiRUEn28rBODJn45U27+ISKhJFQSbtu2imcEBbVrUdygiIvuMJlcQtG/bUmO7i4jEiFwQmNmUqpYbgv/s2E171QZEROJUp0aQl2R5n7d9VzFtW2oKBhGRWJELAnd/pqrlhmD7rmLaZqkgEBGJlWyIiTuBSodFc/dL6zyiFNldXMKygq2cNKhzfYciIrJPSfb1eHFaokiDlRu/AqB1pkbjFBGJlezJ4rgJZ8ystbvvTG1IqbGnJJiA5ZTBB9dzJCIi+5ZIfQRmdrSZrQTeD5cHm9k9KY2sju0JJ+JqpklWRETiRO0sngp8F9gM4O7vAg1qrKHSmbyaNaknJ0REkqvOXUMfJ6yqelaWfUzplMuqEYiIxIt6L+XHZjYScDPLBC4DVqUurLr35ddFgAoCEZFEUWsEPwV+BnQBPgGGhMsNRrJJ3kVEmqpIBYG7f+Hu/+XuB7p7R3ef5O6bk+1nZuPMbLWZrTGzyRVs725m881sqZktM7MTa3IRUWwrLAagXSuNOioiEivqXUOHmNkzZrbJzD43s/9nZock2ScDuBs4ATgCOMvMjkhIdg3wd3cfCpwJpOxOpMwMNQmJiFQkatPQ34C/A52Bg4EngMeS7DMCWOPua919N/A4MD4hjQM54et2BM1OKbE17CNopQfKRETiRC0IWrv7I+5eHP48CmQl2acLEHunUUG4LtYUYJKZFQBzgUsqOpCZXWBmi81s8aZNmyKGHK+NBpsTEalQlQWBmR1gZgcAz5rZZDPraWY9zOx/CTLu2joLeMjduwInAo+YWbmY3H2au+e6e27Hjh1rdKItO3cDkKEmIhGROMm+JucRNN+U5p7/E7PNgV9Vse8GoFvMctdwXayfAOMA3P0tM8sCOgCfJ4mr2kqbhJprUhoRkTjJxhrqVYtjLwL6mlkvggLgTOCHCWnWA8cBD5nZ4QTNTTVr+0miNPvPzNCjxSIisSI3nJvZAIK7f8r6Btx9RmXp3b3YzC4GngcygOnuvsLMbgAWu/ts4ArgATP7BUEN41wvfQQ4RVQfEBGJF6kgMLPrgVEEBcFcgltCXwcqLQgA3H0uCX0J7n5dzOuVwDerFbGIiNSpqO0kZxA04Xzq7j8GBhPc7ikiIg1c1ILga3cvAYrNLIegM7dbkn1ERKQBiNpHsNjM9gMeILiTaDvwVqqCEhGR9IlUELj7ReHL+8zsOSDH3ZelLiwREUmXZJPXD6tqm7svqfuQREQknZLVCP5UxTYHxtRhLCIiUg+SPVA2Ol2BiIhI/dBjtiIiTZwKAhGRJk4FgYhIExd1hjIzs0lmdl243N3MRqQ2NBERSYeoNYJ7gKMJ5g8A2EYwDWWDsXnH7voOQURknxT1yeJvuPswM1sK4O5bzKxFCuOqc5q0XkSkYlFrBEXhZPQOYGYdgZKURZUCzczifouISCBqQXAHMAvoZGa/IxiC+vcpi0pERNIm6lhDfzWzPIKhqA34nruvSmlkIiKSFlEnprkDeNzdG1QHsYiIJBe1aSgPuMbM/m1mt5pZbiqDEhGR9IlUELj7w+5+InAksBr4o5n9K6WRiYhIWlT3yeI+wGFAD+D9ug9HRETSLeqTxTeHNYAbgOVArrufktLIREQkLaI+UPZv4Gh3/yKVwYiISPolm6HsMHd/H1gEdDez7rHbNUOZiEjDl6xGcDlwARXPVKYZykREGoFkM5RdEL48wd0LY7eZWVbKohIRkbSJetfQmxHXiYhIA5Osj+AgoAvQysyGEgwvAZADtE5xbCIikgbJ+gi+C5wLdAVui1m/Dfh1imISEZE0StZH8DDwsJmd7u7/SFNMKeH1HYCIyD4qWdPQJHd/FOhpZpcnbnf32yrYbZ/kHhQFplmaRUTiJMsW24S/2wLZFfxUyczGmdlqM1tjZpMrSTPBzFaa2Qoz+1s1Yq8RTUsjIhIvWdPQ/eHv31T3wOGMZncDY4ECYJGZzXb3lTFp+gK/Ar4ZTn/ZqbrnERGR2qnOWEM5ZpZpZi+b2SYzm5RktxHAGndf6+67gceB8Qlp/hu42923ALj759W9ABERqZ2oLebHu/tXwMnAOoJRSK9Ksk8X4OOY5YJwXaxDgUPN7A0ze9vMxlV0IDO7wMwWm9niTZs2RQxZRESiiFoQlDYhnQQ84e5b6+j8zYG+wCjgLOABM9svMZG7T3P3XHfP7dixYx2dWkREIHpBMMfM3geGAy+bWUegMMk+G4BuMctdw3WxCoDZ7l7k7h8CHxAUDCIikiZRZyibDIwkmIegCNhB+fb+RIuAvmbWy8xaAGcCsxPSPE1QG8DMOhA0Fa2NGryIiNRe1MnrM4FJwLFmBvAKcF9V+7h7sZldDDwPZADT3X2Fmd0ALHb32eG2481sJbAHuMrdN9f4akREpNqiTkxzL5AJ3BMunx2uO7+qndx9LjA3Yd11Ma+dYKjrcg+riYhIekQtCI5098Exy/PM7N1UBJQqn2/bVd8hiIjsk6J2Fu8xs96lC2Z2CEFTToNxQJsWADQzPVssIhIrao3gKmC+ma0lGKWhB/DjlEWVAqXZv8oBEZF4SQuC8FbRrQRPCpcOAbHa3dXWIiLSCFTZNGRm5wMrgDuBfKCnuy9TISAi0ngkqxH8HOjv7pvCfoG/Uv5ZABERacCSdRbvdvdNAO6+FmiZ+pBERCSdktUIuprZHZUtu/ulqQlLRETSJVlBkDjCaF6qAhERkfoRZc5iERFpxJLdNfSAmQ2oZFsbMzvPzP4rNaGJiEg6JGsauhu4zswGAsuBTUAWwVDROcB0gjuJRESkgUrWNJQPTDCztkAu0Bn4Gljl7qtTH56IiKRapCEm3H07sCC1oYiISH2IOuiciIg0UioIRESauGoVBGbWOlWBiIhI/YhUEJjZyHA6yffD5cFmdk+S3UREpAGIWiP4P+C7wGYAd38XODZVQYmISPpEbhpy948TVjWoGcpERKRiUWco+9jMRgJuZpnAZcCq1IUlIiLpErVG8FPgZ0AXYAMwBLgoRTGJiEgaRa0R9HP3uDGFzOybwBt1H5KIiKRT1BrBnRHXiYhIA1NljcDMjgZGAh3N7PKYTTlARioDExGR9EjWNNQCaBumy45Z/xVwRqqCEhGR9Ek2+ugrwCtm9pC7f5SmmEREJI2idhbvNLNbgP4E8xEA4O5jUhKViIikTdTO4r8SDC/RC/gNsA5YlKKYREQkjaIWBO3d/c9Akbu/4u7nAaoNiIg0AlGbhorC3xvN7CTgE+CA1IQkIiLpFLVG8FszawdcAVwJPAj8PNlOZjbOzFab2Rozm1xFutPNzM0sN2I8IiJSR6JOVTknfLkVGA1lTxZXyswygLuBsUABsMjMZrv7yoR02QRjF71TvdBFRKQuVFkjMLMMMzvLzK40swHhupPN7E3griTHHgGscfe17r4beBwYX0G6G4E/AoXVD19ERGorWdPQn4HzgfbAHWb2KHArcLO7D02ybxcgdujqgnBdGTMbBnRz939WdSAzu8DMFpvZ4k2bNiU5rYiIVEeypqFcYJC7l5hZFvAp0NvdN9f2xGbWDLgNODdZWnefBkwDyM3N9dqeW0RE9kpWI9jt7iUA7l4IrK1GIbAB6Baz3DVcVyobGAAsMLN1wFHAbHUYi4ikV7IawWFmtix8bUDvcNkAd/dBVey7COhrZr0ICoAzgR+WbnT3rUCH0mUzWwBc6e6Lq30VIiJSY8kKgsNremB3Lzazi4HnCUYqne7uK8zsBmCxu8+u6bFFRKTuJBt0rlYDzbn7XGBuwrrrKkk7qjbnEhGRmok8eb2IiDROKghERJq4yAWBmbUys36pDEZERNIvUkFgZqcA+cBz4fIQM1Nnr4hIIxC1RjCFYMiILwHcPZ9gbgIREWngohYEReF9/7H0hK+ISCMQdT6CFWb2QyDDzPoClwJvpi4sERFJl6g1gksI5iveBfyNYDjqn6coJhERSaOoNYLD3P1q4OpUBiMiIukXtUbwJzNbZWY3ls5LICIijUOkgsDdRxPMTLYJuN/M3jOza1IamYiIpEXkB8rc/VN3vwP4KcEzBRWOGSQiIg1L1AfKDjezKWb2HnAnwR1DXVMamYiIpEXUzuLpwEzgu+7+SQrjERGRNItUELj70akORERE6keVBYGZ/d3dJ4RNQrFPEkeZoUxERBqAZDWCy8LfJ6c6EBERqR9Vdha7+8bw5UXu/lHsD3BR6sMTEZFUi3r76NgK1p1Ql4GIiEj9SNZHcCHBN/9DzGxZzKZs4I1UBiYiIumRrI/gb8CzwB+AyTHrt7n7f1IWlYiIpE2ygsDdfZ2Z/Sxxg5kdoMJARKThi1IjOBnII7h91GK2OXBIiuISEZE0qbIgcPeTw9+allJEpJGKOtbQN82sTfh6kpndZmbdUxuaiIikQ9TbR+8FdprZYOAK4N/AIymLSkRE0iZqQVDs7g6MB+5y97sJbiEVEZEGLuroo9vM7FfA2cC3zKwZkJm6sEREJF2i1ggmEkxcf567f0owF8EtKYtKRETSJupUlZ8CfwXamdnJQKG7z0hpZCIikhZR7xqaACwEfgBMAN4xszMi7DfOzFab2Rozm1zB9svNbKWZLTOzl82sR3UvQEREaidqH8HVwJHu/jmAmXUEXgKerGwHM8sA7iYYsK4AWGRms919ZUyypUCuu+8MxzW6maAZSkRE0iRqH0Gz0kIgtDnCviOANe6+1t13A48T3HVUxt3nu/vOcPFtNA+yiEjaRa0RPGdmzwOPhcsTgblJ9ukCfByzXAB8o4r0PyEY4K4cM7sAuACge3c9xyYiUpeizll8lZl9HzgmXDXN3WfVVRBmNgnIBb5dyfmnAdMAcnNzvaI0IiJSM8nmI+gL3Ar0Bt4DrnT3DRGPvQHoFrPcNVyXeI7vEPRBfNvdd0U8toiI1JFk7fzTgTnA6QQjkN5ZjWMvAvqaWS8zawGcCcyOTWBmQ4H7gVMT+iBERCRNkjUNZbv7A+Hr1Wa2JOqB3b3YzC4GngcygOnuvsLMbgAWu/tsgofS2gJPmBnAenc/tdpXISIiNZasIMgKv7WXzkPQKnbZ3assGNx9Lgmdyu5+Xczr71Q7YhERqVPJCoKNwG0xy5/GLDswJhVBiYhI+iSbmGZ0ugIREZH6EfWBMhERaaRUEIiINHEqCEREmrioo49aOFfxdeFydzMbkdrQREQkHaLWCO4BjgbOCpe3EYwsKiIiDVzUQee+4e7DzGwpgLtvCZ8WFhGRBi5qjaAonF/AoWw+gpKURSUiImkTtSC4A5gFdDKz3wGvA79PWVQiIpI2UYeh/quZ5QHHEQwv8T13X5XSyEREJC0iFQRm1h3YCTwTu87d16cqMBERSY+oncX/JOgfMCAL6AWsBvqnKC4REUmTqE1DA2OXzWwYcFFKIhIRkbSq0ZPF4fDTVc0/LCIiDUTUPoLLYxabAcOAT1ISkYiIpFXUPoLsmNfFBH0G/6j7cEREJN2SFgThg2TZ7n5lGuIREZE0q7KPwMyau/se4JtpikdERNIsWY1gIUF/QL6ZzQaeAHaUbnT3p1IYm4iIpEHUPoIsYDPBHMWlzxM4oIJARKSBS1YQdArvGFrO3gKglKcsKmm0ioqKKCgooLCwsL5DEWmUsrKy6Nq1K5mZmZH3SVYQZABtiS8ASqkgkGorKCggOzubnj17YlbRn5WI1JS7s3nzZgoKCujVq1fk/ZIVBBvd/YbahSayV2FhoQoBkRQxM9q3b8+mTZuqtV+yJ4v13yp1ToWASOrU5P8rWUFwXM1CERGRhqLKgsDd/5OuQETS5Xe/+x39+/dn0KBBDBkyhHfeeafStIsXL+bSSy8FYMqUKdx6663l0lx33XW89NJLAEydOpWdO3dWeKwFCxZw8skn18EVRHfuuefSq1cvhgwZwuDBg3n55ZfLtu3evZuf//zn9OnTh759+zJ+/HgKCgrKtn/66aeceeaZ9O7dm+HDh3PiiSfywQcflDtH1HSpNHXqVGbMmFG2XFxcTMeOHZk8eXJcup49e/LFF1+ULSd+Js8++yy5ubkcccQRDB06lCuuuKLWseXl5TFw4ED69OnDpZdeinv57tUtW7Zw2mmnMWjQIEaMGMHy5cvjYh44cCBDhgwhNze3bP2VV17JvHnzah0fEHQuNKSf4cOHe03ct2CN9/jlHN+xq6hG+0vdWLlyZb2e/8033/SjjjrKCwsL3d1906ZNvmHDhkj7Xn/99X7LLbdUmaZHjx6+adOmCrfNnz/fTzrppOoFXIGiouh/w+ecc44/8cQT7u4+b94879OnT9m2K664ws877zwvLi52d/fp06f7kUce6SUlJV5SUuJHHXWU33vvvWXp8/Pz/dVXX407ftR0VSk9f00VFRX5wIED496XuXPn+siRI/2QQw7xkpKSsvWJn0/sZ/Lee+/5IYcc4qtWrSqL65577qlVbO7uRx55pL/11lteUlLi48aN87lz55ZLc+WVV/qUKVPc3X3VqlU+ZsyYSmMutW7dOh87dmyF56zo/wxY7JXkq1GfIxCpc795ZgUrP/mqTo95xME5XH9K5dNkbNy4kQ4dOtCyZUsAOnToULZt0aJFXHbZZezYsYOWLVvy8ssvk5eXx6233sqcOXPijvPAAw/w1FNP8dRTT3HhhRdy8skn88knn/DJJ58wevRoOnTowPz58yuNY8eOHVxyySUsX76coqIipkyZwvjx41m3bh1nn302O3YEz23eddddjBw5kgULFnDttdey//778/777zNt2jSmTJlChw4dWL58OcOHD+fRRx+tsn346KOPZsOGDQDs3LmTv/zlL3z44YdkZGQA8OMf/5jp06czb948zIzMzEx++tOflu0/ePDgcsecP39+pekWLFgQ995dfPHF5Obmcu6559KzZ08mTpzIiy++yIQJE3jqqadYuHAhAOvWreOUU07hvffeIy8vj8svv5zt27fToUMHHnroITp37hwXw7x58xg2bBjNm+/Nzh577DEuu+wy7r33Xt566y1GjhxZ6ftS6uabb+bqq6/msMMOAyAjI4MLL7ww6X5V2bhxI1999RVHHXUUAD/60Y94+umnOeGEE+LSrVy5sqz2cthhh7Fu3To+++wzDjzwwEqP3aNHDzZv3synn37KQQcdVKs4azQMtUhDdfzxx/Pxxx9z6KGHctFFF/HKK68AQTPJxIkTuf3223n33Xd56aWXaNWqVYXHuOuuu5gzZw5PP/10XJpLL72Ugw8+mPnz51dZCEDQPDVmzBgWLlzI/Pnzueqqq9ixYwedOnXixRdfZMmSJcycObOsWQpgyZIl3H777WXNLkuXLmXq1KmsXLmStWvX8sYbb1R5zueee47vfe97AKxZs4bu3buTk5MTlyY3N5cVK1aUFS7JRE1Xkfbt27NkyRImT57M7t27+fDDDwGYOXMmEydOpKioiEsuuYQnn3ySvLw8zjvvPK6++upyx3njjTfiYigsLOSll17ilFNO4ayzzuKxxx6LFE/Ua5k/fz5Dhgwp91NRYbNhwwa6du1atty1a9eywjjW4MGDeeqp4PnchQsX8tFHH5U105kZxx9/PMOHD2fatGlx+w0bNizp5x6FagRSb6r65p4qbdu2JS8vj9dee4358+czceJEbrrpJoYPH07nzp058sgjAcplkKVmzJhBt27dePrpp6v1wE6iF154gdmzZ5f1ORQWFrJ+/XoOPvhgLr74YvLz88nIyIhrax8xYkTcveEjRowoy2SGDBnCunXrOOaYY8qd66qrruLXv/41BQUFvPXWWzWOua5NnDix7PWECROYOXMmkydPZubMmcycOZPVq1ezfPlyxo4dC8CePXvK1QYg+NZ9+OGHly3PmTOH0aNH06pVK04//XRuvPFGpk6dSkZGRoU1pureZTN69Gjy8/OrtU8ykydP5rLLLmPIkCEMHDiQoUOHltXUXn/9dbp06cLnn3/O2LFjOeywwzj22GMB6NSpE598UvsZAVJaEJjZOOB2ggfTHnT3mxK2twRmAMMJhrCY6O7rUhmTSEZGBqNGjWLUqFEMHDiQhx9+OPK32oEDB5Kfnx/pgZ1Zs2bxm9/8BoAHH3wwbpu7849//IN+/frFrZ8yZQoHHngg7777LiUlJWRlZZVta9OmTVza0uat0msqLi6uMI5bbrmFM844gzvvvJPzzjuPvLw8evfuzfr169m2bRvZ2XtHmc/LyyvrPH3yyServD6A/v37V5quefPmlJSUlC0nPk0eez0TJ07kBz/4Ad///vcxM/r27ct7771H//79kxZerVq1ijv2Y489xuuvv07Pnj0B2Lx5M/PmzWPs2LG0b9+eLVu2lDUJ/uc//yl73b9/f/Ly8ipsAos1f/58fvGLX5Rb37p1a9588824dV26dInrgC8oKKBLly7l9s3JyeEvf/kLEPxt9OrVi0MOOaTsGBBk+qeddhoLFy4sKwgKCwsrrblWR8qahsLhq+8GTgCOAM4ysyMSkv0E2OLufYD/A/6YqnhEAFavXs2//vWvsuX8/Hx69OhBv3792LhxI4sWLQJg27ZtFWasQ4cO5f777+fUU0+t8JtYdnY227ZtA+C0004jPz+f/Pz8uLs9AL773e9y5513lt1BsnTpUgC2bt1K586dadasGY888gh79uypmwsnaKMvKSnh+eefp02bNpxzzjlcfvnlZeeYMWMGO3fuZMyYMYwZM4Zdu3bFNUUsW7aM1157Le6YVaXr0aMHK1euZNeuXXz55Zdxdywl6t27NxkZGdx4441lNYV+/fqxadOmsoKgqKiIFStWlNv38MMPZ82aNQB89dVXvPbaa6xfv55169axbt067r777rLmoVGjRvHII48AQQ3j0UcfZfTo0UBQc/r9739fVgsrKSnhvvvuK3e+0hpB4k9iIQDQuXNncnJyePvtt3F3ZsyYwfjx48ul+/LLL9m9ezcQfGk49thjycnJYceOHWV/Tzt27OCFF15gwIABZft98MEHccs1lco+ghHAGndf6+67gceBxHdgPPBw+PpJ4DjT00aSQtu3b+ecc87hiCOOYNCgQaxcuZIpU6bQokULZs6cySWXXMLgwYMZO3ZspeMhHXPMMdx6662cdNJJcbciAlxwwQWMGzeuLHOpzLXXXktRURGDBg2if//+XHvttQBcdNFFPPzwwwwePJj333+/XC2gNsyMa665hptvvhmAP/zhD2RlZXHooYfSt29fnnjiCWbNmoWZYWbMmjWLl156id69e9O/f39+9atfleuUrCpdt27dmDBhAgMGDGDChAkMHTq0yvgmTpzIo48+yoQJEwBo0aIFTz75JL/85S8ZPHgwQ4YMqTCzPeGEE3j11VeBoBY2ZsyYuNrS+PHjeeaZZ9i1axfXXnsta9asYfDgwQwdOpQ+ffowadIkAAYNGsTUqVM566yzOPzwwxkwYABr166t+Rseuueeezj//PPp06cPvXv3Lusovu+++8oKmlWrVjFgwAD69evHs88+y+233w7AZ599xjHHHMPgwYMZMWIEJ510EuPGjQOCgnHNmjXlvmTUhJV+I6lrZnYGMM7dzw+Xzwa+4e4Xx6RZHqYpCJf/Hab5IuFYFwAXAHTv3n34Rx99VO14XljxKU/nb+C2CUPIysyo6WVJLa1atSquPVekLpx22mncfPPN9O3bt75DSZtZs2axZMkSbrzxxnLbKvo/M7M8d6+w1GgQdw25+zR3z3X33I4dO9boGMf3P4h7/mu4CgGRRuimm25i48aN9R1GWhUXF9fJA2+Q2s7iDUC3mOWu4bqK0hSYWXOgHUGnsYhIZP369SvX8d7Y/eAHP6izY6WyRrAI6GtmvcysBXAmMDshzWzgnPD1GcA8T1Vblewz9BGLpE5N/r9SVhC4ezFwMfA8sAr4u7uvMLMbzOzUMNmfgfZmtga4HJhc8dGkscjKymLz5s0qDERSwMP5CGJvO44iZZ3FqZKbm+uLFy+u7zCkhjRDmUhqVTZDWVWdxXqyWNIqMzOzWjMniUjqNYi7hkREJHVUEIiINHEqCEREmrgG11lsZpuA6j9aHOgAfJE0VeOia24adM1NQ22uuYe7V/hEboMrCGrDzBZX1mveWOmamwZdc9OQqmtW05CISBOngkBEpIlragXBtORJGh1dc9Oga24aUnLNTaqPQEREymtqNQIREUmggkBEpIlrlAWBmY0zs9VmtsbMyo1oamYtzWxmuP0dM+tZD2HWqQjXfLmZrTSzZWb2spn1qI8461Kya45Jd7qZuZk1+FsNo1yzmU0IP+sVZva3dMdY1yL8bXc3s/lmtjT8+z6xPuKsK2Y23cw+D2dwrGi7mdkd4fuxzMyG1fqk7t6ofoAM4N/AIUAL4F3giIQ0FwH3ha/PBGbWd9xpuObRQOvw9YVN4ZrDdNnAq8DbQG59x52Gz7kvsBTYP1zuVN9xp+GapwEXhq+PANbVd9y1vOZjgWHA8kq2nwg8CxhwFPBObc/ZGGsEI4A17r7W3XcDjwPjE9KMBx4OXz8JHGdmlsYY61rSa3b3+e6+M1x8m2DGuIYsyucMcCPwR6AxjHsd5Zr/G7jb3bcAuPvnaY6xrkW5ZgdywtftgE/SGF+dc/dXgf9UkWQ8MMMDbwP7mVnn2pyzMRYEXYCPY5YLwnUVpvFgAp2tQPu0RJcaUa451k8IvlE0ZEmvOawyd3P3f6YzsBSK8jkfChxqZm+Y2dtmNi5t0aVGlGueAkwyswJgLnBJekKrN9X9f09K8xE0MWY2CcgFvl3fsaSSmTUDbgPOredQ0q05QfPQKIJa36tmNtDdv6zPoFLsLOAhd/+TmR0NPGJmA9y9pL4DaygaY41gA9AtZrlruK7CNGbWnKA6uTkt0aVGlGvGzL4DXA2c6u670hRbqiS75mxgALDAzNYRtKXObuAdxlE+5wJgtrsXufuHwAcEBUNDFeWafwL8HcDd3wKyCAZna6wi/b9XR2MsCBYBfc2sl5m1IOgMnp2QZjZwTvj6DGCeh70wDVTSazazocD9BIVAQ283hiTX7O5b3b2Du/d0954E/SKnuntDnuc0yt/20wS1AcysA0FT0do0xljXolzzeuA4ADM7nKAg2JTWKNNrNvCj8O6ho4Ct7r6xNgdsdE1D7l5sZhcDzxPccTDd3VeY2Q3AYnefDfyZoPq4hqBT5sz6i7j2Il7zLUBb4ImwX3y9u59ab0HXUsRrblQiXvPzwPFmthLYA1zl7g22thvxmq8AHjCzXxB0HJ/bkL/YmdljBIV5h7Df43ogE8Dd7yPoBzkRWAPsBH5c63M24PdLRETqQGNsGhIRkWpQQSAi0sSpIBARaeJUEIiINHEqCEREmjgVBE2Ame0xs/yYn55VpN1eB+d7yMw+DM+1JHzas7rHeNDMjghf/zph25u1jTE8Tun7stzMnjGz/ZKkH1KTkS3NrLOZzQlfjzKzreF5V5nZ9TU43qmlo3Ca2fdK36dw+YbwwcFaCT/DM5KkWVCdB/TCa58TIV2Fo2+a2a1mNibq+SQ6FQRNw9fuPiTmZ10aznmVuw8BJhM8yFYt7n6+u68MF3+dsG1k7cMD9r4vAwieJ/lZkvRDCO7frq7LgQdill8L35tcgjFyqjWMsLvPdvebwsXvEYy4WbrtOnd/qQYx7kseAioaI+lOgr8nqWMqCJogM2trwZwES8zsPTMrN2pn+C321ZhvzN8K1x9vZm+F+z5hZm2TnO5VoE+47+XhsZab2c/DdW3M7J9m9m64fmK4foGZ5ZrZTUCrMI6/htu2h78fN7OTYmJ+yMzOMLMMM7vFzBZZMF77/0R4W94iHLjLzEaE17jUzN40s37hU603ABPDWCaGsU83s4Vh2opGPwU4HXgucaW77wDygD5hbePtMN5ZZrZ/GMultnceicfDdeea2V1mNhI4FbgljKl3zHswzsyeiHlvyr6NV/czNLPrwvdyuZlNM4sbqffsmL+REWH6qO9LhSobfdPdPwLam9lB1TmeRFAf423rJ70/BE+Y5oc/swieKM8Jt3UgeEKx9OHC7eHvK4Crw9cZBGP3dCDI2NuE638JXFfB+R4Czghf/wB4BxgOvAe0IXjCeQUwlCCTfCBm33bh7wWE8weUxhSTpjTG04CHw9ctCEZkbAVcAFwTrm8JLAZ6VRDn9pjrewIYFy7nAM3D198B/hG+Phe4K2b/3wOTwtf7EYzr0ybhHL2AvJjlUcCc8HV7YB3QH1gGfDtcfwMwNXz9CdCy9ByJccS+17HL4We8PuazuheYVMPP8ICY9Y8Ap8R8Rg+Er48lHD+/svcl4dpzgQer+JvtSQXj8RPUrE6v7/+pxvbT6IaYkAp97UFTBABmlgn83syOBUoIvgkfCHwas88iYHqY9ml3zzezbxM0Q7wRfilsQfBNuiK3mNk1BGO+/IRgLJhZHnwLxsyeAr5F8E35T2b2R4JM4rVqXNezwO1m1pKgKeFVd//azI4HBsW0cbcjGHjtw4T9W5lZfnj9q4AXY9I/bGZ9CYYsyKzk/McDp5rZleFyFtA9PFapzpQf9+ZbZraU4L2/iWCguP3c/ZVw+8MEBRMEBcRfzexpgnGEIvFgaIbngFPM7EngJOB/CUadjfoZlhptZv8LtAYOICjEnwm3PRae71Uzy7Ggn6Wy9yU2vsXA+VGvJ8bnwME12E+qoIKgafovoCMw3N2LLBidMys2QfiPfSxBBvKQmd0GbAFedPezIpzjKnd/snTBzI6rKJG7fxC2kZ8I/NbMXnb3G6JchLsXmtkC4LvARIJJSyCYuekSd38+ySG+dvchZtaaYCybnwF3EExmM9/dT7OgY31BJfsbwbfT1VWdg4T3lqCP4OSyg5i1q2L/kwi+bZ8CXG1mA6tIm+hx4GKCZpbF7r4tbNaJ+hliZlnAPQS1s4/NbArx15M4Ro1TyftiZgdWI/bKZBG8p1KH1EfQNLUDPg8LgdFAufmLLZjT+DN3fwB4kGDqvLeBb5pZaZt/GzM7NOI5XwO+Z2atzawNQbPOa2Z2MLDT3R8lGBivoo7TorBmUpGZBINuldYuIMjULyzdx8wODc9ZIQ9mbrsUuML2DkteOqzvuTFJtxE0kZV6HriktM3cghFeE31A0MxRKXffCmyxsB8GOBt4xYI5Fbq5+3yCJpx2BM1qsRJjivUKwfv53+wtJKv7GZZm+l+EfQmJdxKV9ukcQzAK5laivS81dShQ4Vy+UnMqCJqmvwK5ZvYe8CPg/QrSjALeDZswJgK3u/smgozxMTNbRtCkcFiUE7r7EoJ254UEfQYPuvtSYCCwMGyiuR74bQW7TwOWWdhZnOAFguaOlzyYyhCCgmslsMSCWxDvJ0ntN4xlGcEkJzcDfwivPXa/+cARpZ3FBDWHzDC2FeFy4nF3AP8uzXircA5Bc9oygruTbiDou3g0/JyWAnd4+QlmHgeuCjtleyecew8wBzgh/E11P8PwfA8QZL7PEzQZxioM36f7CJoAIcL7YsGNAA9WdE4LRt98C+hnZgVm9pNwfSbBjQcNeSjxfZJGHxVJMTM7jaAZ7pr6jqUhC9/HYe5+bX3H0tioj0Akxdx9lpk15Dmx9xXNgT/VdxCNkWoEIiJNnPoIRESaOBUEIiJNnAoCEZEmTgWBiEgTp4JARKSJ+//T1tcj4NeqmQAAAABJRU5ErkJggg==\n",
       "datasetInfos": [],
       "metadata": {},
       "removedWidgets": [],
       "type": "image"
      }
     },
     "output_type": "display_data"
    },
    {
     "output_type": "stream",
     "name": "stdout",
     "output_type": "stream",
     "text": [
      "Model run:  96eb18e77828403fbccd229cf5d138b1\n"
     ]
    },
    {
     "output_type": "display_data",
     "data": {
      "image/png": "[encoded data removed]"
     },
     "metadata": {
      "application/vnd.databricks.v1+output": {
       "addedWidgets": {},
       "arguments": {},
       "data": "data:image/png;base64,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\n",
       "datasetInfos": [],
       "metadata": {},
       "removedWidgets": [],
       "type": "image"
      }
     },
     "output_type": "display_data"
    }
   ],
   "source": [
    "from sklearn.ensemble import RandomForestClassifier\n",
    "\n",
    "rf_model = RandomForestClassifier(random_state=None)\n",
    "\n",
    "mlflow.set_experiment(\"/Users/tadlaouisalma25@gmail.com/scikit_learn_experiment1\")\n",
    "with mlflow.start_run():\n",
    "    train(rf_model, x_train, y_train)\n",
    "    evaluate(rf_model, x_test, y_test)\n",
    "    mlflow.sklearn.log_model(rf_model, \"random_forest_model\")\n",
    "    print(\"Model run: \", mlflow.active_run().info.run_uuid)\n",
    "\n",
    "# End the MLflow run\n",
    "mlflow.end_run()"
   ]
  },
  {
   "cell_type": "code",
   "execution_count": 0,
   "metadata": {
    "application/vnd.databricks.v1+cell": {
     "cellMetadata": {},
     "inputWidgets": {},
     "nuid": "b02869e3-df9a-498d-b7fd-c41ede4851ca",
     "showTitle": false,
     "title": ""
    }
   },
   "outputs": [],
   "source": []
  }
 ],
 "metadata": {
  "application/vnd.databricks.v1+notebook": {
   "dashboards": [],
   "language": "python",
   "notebookMetadata": {
    "pythonIndentUnit": 2
   },
   "notebookName": "5. MLflow-DataBricks (2)",
   "widgets": {}
  },
  "kernelspec": {
   "display_name": "Python 3 (ipykernel)",
   "language": "python",
   "name": "python3"
  },
  "language_info": {
   "codemirror_mode": {
    "name": "ipython",
    "version": 3
   },
   "file_extension": ".py",
   "mimetype": "text/x-python",
   "name": "python",
   "nbconvert_exporter": "python",
   "pygments_lexer": "ipython3",
   "version": "3.10.9"
  }
 },
 "nbformat": 4,
 "nbformat_minor": 0
}
